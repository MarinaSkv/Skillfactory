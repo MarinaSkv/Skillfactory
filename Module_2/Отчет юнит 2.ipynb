{
 "cells": [
  {
   "cell_type": "code",
   "execution_count": 1,
   "metadata": {},
   "outputs": [],
   "source": [
    "import pandas as pd\n",
    "import matplotlib.pyplot as plt\n",
    "import seaborn as sns\n",
    "from itertools import combinations\n",
    "from scipy.stats import ttest_ind"
   ]
  },
  {
   "cell_type": "code",
   "execution_count": 2,
   "metadata": {},
   "outputs": [],
   "source": [
    "study = pd.read_csv('stud_math.xls')"
   ]
  },
  {
   "cell_type": "code",
   "execution_count": 3,
   "metadata": {},
   "outputs": [
    {
     "data": {
      "text/html": [
       "<div>\n",
       "<style scoped>\n",
       "    .dataframe tbody tr th:only-of-type {\n",
       "        vertical-align: middle;\n",
       "    }\n",
       "\n",
       "    .dataframe tbody tr th {\n",
       "        vertical-align: top;\n",
       "    }\n",
       "\n",
       "    .dataframe thead th {\n",
       "        text-align: right;\n",
       "    }\n",
       "</style>\n",
       "<table border=\"1\" class=\"dataframe\">\n",
       "  <thead>\n",
       "    <tr style=\"text-align: right;\">\n",
       "      <th></th>\n",
       "      <th>school</th>\n",
       "      <th>sex</th>\n",
       "      <th>age</th>\n",
       "      <th>address</th>\n",
       "      <th>famsize</th>\n",
       "      <th>Pstatus</th>\n",
       "      <th>Medu</th>\n",
       "      <th>Fedu</th>\n",
       "      <th>Mjob</th>\n",
       "      <th>Fjob</th>\n",
       "      <th>...</th>\n",
       "      <th>studytime, granular</th>\n",
       "      <th>higher</th>\n",
       "      <th>internet</th>\n",
       "      <th>romantic</th>\n",
       "      <th>famrel</th>\n",
       "      <th>freetime</th>\n",
       "      <th>goout</th>\n",
       "      <th>health</th>\n",
       "      <th>absences</th>\n",
       "      <th>score</th>\n",
       "    </tr>\n",
       "  </thead>\n",
       "  <tbody>\n",
       "    <tr>\n",
       "      <th>0</th>\n",
       "      <td>GP</td>\n",
       "      <td>F</td>\n",
       "      <td>18</td>\n",
       "      <td>U</td>\n",
       "      <td>NaN</td>\n",
       "      <td>A</td>\n",
       "      <td>4.0</td>\n",
       "      <td>4.0</td>\n",
       "      <td>at_home</td>\n",
       "      <td>teacher</td>\n",
       "      <td>...</td>\n",
       "      <td>-6.0</td>\n",
       "      <td>yes</td>\n",
       "      <td>NaN</td>\n",
       "      <td>no</td>\n",
       "      <td>4.0</td>\n",
       "      <td>3.0</td>\n",
       "      <td>4.0</td>\n",
       "      <td>3.0</td>\n",
       "      <td>6.0</td>\n",
       "      <td>30.0</td>\n",
       "    </tr>\n",
       "    <tr>\n",
       "      <th>1</th>\n",
       "      <td>GP</td>\n",
       "      <td>F</td>\n",
       "      <td>17</td>\n",
       "      <td>U</td>\n",
       "      <td>GT3</td>\n",
       "      <td>NaN</td>\n",
       "      <td>1.0</td>\n",
       "      <td>1.0</td>\n",
       "      <td>at_home</td>\n",
       "      <td>other</td>\n",
       "      <td>...</td>\n",
       "      <td>-6.0</td>\n",
       "      <td>yes</td>\n",
       "      <td>yes</td>\n",
       "      <td>no</td>\n",
       "      <td>5.0</td>\n",
       "      <td>3.0</td>\n",
       "      <td>3.0</td>\n",
       "      <td>3.0</td>\n",
       "      <td>4.0</td>\n",
       "      <td>30.0</td>\n",
       "    </tr>\n",
       "    <tr>\n",
       "      <th>2</th>\n",
       "      <td>GP</td>\n",
       "      <td>F</td>\n",
       "      <td>15</td>\n",
       "      <td>U</td>\n",
       "      <td>LE3</td>\n",
       "      <td>T</td>\n",
       "      <td>1.0</td>\n",
       "      <td>1.0</td>\n",
       "      <td>at_home</td>\n",
       "      <td>other</td>\n",
       "      <td>...</td>\n",
       "      <td>-6.0</td>\n",
       "      <td>yes</td>\n",
       "      <td>yes</td>\n",
       "      <td>NaN</td>\n",
       "      <td>4.0</td>\n",
       "      <td>3.0</td>\n",
       "      <td>2.0</td>\n",
       "      <td>3.0</td>\n",
       "      <td>10.0</td>\n",
       "      <td>50.0</td>\n",
       "    </tr>\n",
       "    <tr>\n",
       "      <th>3</th>\n",
       "      <td>GP</td>\n",
       "      <td>F</td>\n",
       "      <td>15</td>\n",
       "      <td>U</td>\n",
       "      <td>GT3</td>\n",
       "      <td>T</td>\n",
       "      <td>4.0</td>\n",
       "      <td>2.0</td>\n",
       "      <td>health</td>\n",
       "      <td>NaN</td>\n",
       "      <td>...</td>\n",
       "      <td>-9.0</td>\n",
       "      <td>yes</td>\n",
       "      <td>yes</td>\n",
       "      <td>yes</td>\n",
       "      <td>3.0</td>\n",
       "      <td>2.0</td>\n",
       "      <td>2.0</td>\n",
       "      <td>5.0</td>\n",
       "      <td>2.0</td>\n",
       "      <td>75.0</td>\n",
       "    </tr>\n",
       "    <tr>\n",
       "      <th>4</th>\n",
       "      <td>GP</td>\n",
       "      <td>F</td>\n",
       "      <td>16</td>\n",
       "      <td>U</td>\n",
       "      <td>GT3</td>\n",
       "      <td>T</td>\n",
       "      <td>3.0</td>\n",
       "      <td>3.0</td>\n",
       "      <td>other</td>\n",
       "      <td>other</td>\n",
       "      <td>...</td>\n",
       "      <td>-6.0</td>\n",
       "      <td>yes</td>\n",
       "      <td>no</td>\n",
       "      <td>no</td>\n",
       "      <td>4.0</td>\n",
       "      <td>3.0</td>\n",
       "      <td>2.0</td>\n",
       "      <td>5.0</td>\n",
       "      <td>4.0</td>\n",
       "      <td>50.0</td>\n",
       "    </tr>\n",
       "    <tr>\n",
       "      <th>5</th>\n",
       "      <td>GP</td>\n",
       "      <td>M</td>\n",
       "      <td>16</td>\n",
       "      <td>U</td>\n",
       "      <td>LE3</td>\n",
       "      <td>T</td>\n",
       "      <td>4.0</td>\n",
       "      <td>3.0</td>\n",
       "      <td>services</td>\n",
       "      <td>other</td>\n",
       "      <td>...</td>\n",
       "      <td>-6.0</td>\n",
       "      <td>yes</td>\n",
       "      <td>yes</td>\n",
       "      <td>no</td>\n",
       "      <td>5.0</td>\n",
       "      <td>4.0</td>\n",
       "      <td>2.0</td>\n",
       "      <td>5.0</td>\n",
       "      <td>10.0</td>\n",
       "      <td>75.0</td>\n",
       "    </tr>\n",
       "    <tr>\n",
       "      <th>6</th>\n",
       "      <td>GP</td>\n",
       "      <td>M</td>\n",
       "      <td>16</td>\n",
       "      <td>NaN</td>\n",
       "      <td>LE3</td>\n",
       "      <td>T</td>\n",
       "      <td>2.0</td>\n",
       "      <td>2.0</td>\n",
       "      <td>other</td>\n",
       "      <td>other</td>\n",
       "      <td>...</td>\n",
       "      <td>-6.0</td>\n",
       "      <td>yes</td>\n",
       "      <td>yes</td>\n",
       "      <td>no</td>\n",
       "      <td>4.0</td>\n",
       "      <td>4.0</td>\n",
       "      <td>4.0</td>\n",
       "      <td>3.0</td>\n",
       "      <td>0.0</td>\n",
       "      <td>55.0</td>\n",
       "    </tr>\n",
       "    <tr>\n",
       "      <th>7</th>\n",
       "      <td>GP</td>\n",
       "      <td>F</td>\n",
       "      <td>17</td>\n",
       "      <td>U</td>\n",
       "      <td>GT3</td>\n",
       "      <td>A</td>\n",
       "      <td>4.0</td>\n",
       "      <td>4.0</td>\n",
       "      <td>other</td>\n",
       "      <td>teacher</td>\n",
       "      <td>...</td>\n",
       "      <td>-6.0</td>\n",
       "      <td>yes</td>\n",
       "      <td>no</td>\n",
       "      <td>no</td>\n",
       "      <td>4.0</td>\n",
       "      <td>1.0</td>\n",
       "      <td>4.0</td>\n",
       "      <td>1.0</td>\n",
       "      <td>6.0</td>\n",
       "      <td>30.0</td>\n",
       "    </tr>\n",
       "    <tr>\n",
       "      <th>8</th>\n",
       "      <td>GP</td>\n",
       "      <td>M</td>\n",
       "      <td>15</td>\n",
       "      <td>U</td>\n",
       "      <td>LE3</td>\n",
       "      <td>A</td>\n",
       "      <td>3.0</td>\n",
       "      <td>2.0</td>\n",
       "      <td>services</td>\n",
       "      <td>other</td>\n",
       "      <td>...</td>\n",
       "      <td>-6.0</td>\n",
       "      <td>yes</td>\n",
       "      <td>yes</td>\n",
       "      <td>no</td>\n",
       "      <td>NaN</td>\n",
       "      <td>2.0</td>\n",
       "      <td>2.0</td>\n",
       "      <td>1.0</td>\n",
       "      <td>0.0</td>\n",
       "      <td>95.0</td>\n",
       "    </tr>\n",
       "    <tr>\n",
       "      <th>9</th>\n",
       "      <td>GP</td>\n",
       "      <td>M</td>\n",
       "      <td>15</td>\n",
       "      <td>U</td>\n",
       "      <td>NaN</td>\n",
       "      <td>NaN</td>\n",
       "      <td>3.0</td>\n",
       "      <td>4.0</td>\n",
       "      <td>other</td>\n",
       "      <td>other</td>\n",
       "      <td>...</td>\n",
       "      <td>-6.0</td>\n",
       "      <td>yes</td>\n",
       "      <td>yes</td>\n",
       "      <td>no</td>\n",
       "      <td>5.0</td>\n",
       "      <td>5.0</td>\n",
       "      <td>1.0</td>\n",
       "      <td>5.0</td>\n",
       "      <td>0.0</td>\n",
       "      <td>75.0</td>\n",
       "    </tr>\n",
       "  </tbody>\n",
       "</table>\n",
       "<p>10 rows × 30 columns</p>\n",
       "</div>"
      ],
      "text/plain": [
       "  school sex  age address famsize Pstatus  Medu  Fedu      Mjob     Fjob  ...  \\\n",
       "0     GP   F   18       U     NaN       A   4.0   4.0   at_home  teacher  ...   \n",
       "1     GP   F   17       U     GT3     NaN   1.0   1.0   at_home    other  ...   \n",
       "2     GP   F   15       U     LE3       T   1.0   1.0   at_home    other  ...   \n",
       "3     GP   F   15       U     GT3       T   4.0   2.0    health      NaN  ...   \n",
       "4     GP   F   16       U     GT3       T   3.0   3.0     other    other  ...   \n",
       "5     GP   M   16       U     LE3       T   4.0   3.0  services    other  ...   \n",
       "6     GP   M   16     NaN     LE3       T   2.0   2.0     other    other  ...   \n",
       "7     GP   F   17       U     GT3       A   4.0   4.0     other  teacher  ...   \n",
       "8     GP   M   15       U     LE3       A   3.0   2.0  services    other  ...   \n",
       "9     GP   M   15       U     NaN     NaN   3.0   4.0     other    other  ...   \n",
       "\n",
       "  studytime, granular higher  internet  romantic  famrel freetime goout  \\\n",
       "0                -6.0    yes       NaN        no     4.0      3.0   4.0   \n",
       "1                -6.0    yes       yes        no     5.0      3.0   3.0   \n",
       "2                -6.0    yes       yes       NaN     4.0      3.0   2.0   \n",
       "3                -9.0    yes       yes       yes     3.0      2.0   2.0   \n",
       "4                -6.0    yes        no        no     4.0      3.0   2.0   \n",
       "5                -6.0    yes       yes        no     5.0      4.0   2.0   \n",
       "6                -6.0    yes       yes        no     4.0      4.0   4.0   \n",
       "7                -6.0    yes        no        no     4.0      1.0   4.0   \n",
       "8                -6.0    yes       yes        no     NaN      2.0   2.0   \n",
       "9                -6.0    yes       yes        no     5.0      5.0   1.0   \n",
       "\n",
       "  health absences score  \n",
       "0    3.0      6.0  30.0  \n",
       "1    3.0      4.0  30.0  \n",
       "2    3.0     10.0  50.0  \n",
       "3    5.0      2.0  75.0  \n",
       "4    5.0      4.0  50.0  \n",
       "5    5.0     10.0  75.0  \n",
       "6    3.0      0.0  55.0  \n",
       "7    1.0      6.0  30.0  \n",
       "8    1.0      0.0  95.0  \n",
       "9    5.0      0.0  75.0  \n",
       "\n",
       "[10 rows x 30 columns]"
      ]
     },
     "metadata": {},
     "output_type": "display_data"
    },
    {
     "name": "stdout",
     "output_type": "stream",
     "text": [
      "<class 'pandas.core.frame.DataFrame'>\n",
      "RangeIndex: 395 entries, 0 to 394\n",
      "Data columns (total 30 columns):\n",
      " #   Column               Non-Null Count  Dtype  \n",
      "---  ------               --------------  -----  \n",
      " 0   school               395 non-null    object \n",
      " 1   sex                  395 non-null    object \n",
      " 2   age                  395 non-null    int64  \n",
      " 3   address              378 non-null    object \n",
      " 4   famsize              368 non-null    object \n",
      " 5   Pstatus              350 non-null    object \n",
      " 6   Medu                 392 non-null    float64\n",
      " 7   Fedu                 371 non-null    float64\n",
      " 8   Mjob                 376 non-null    object \n",
      " 9   Fjob                 359 non-null    object \n",
      " 10  reason               378 non-null    object \n",
      " 11  guardian             364 non-null    object \n",
      " 12  traveltime           367 non-null    float64\n",
      " 13  studytime            388 non-null    float64\n",
      " 14  failures             373 non-null    float64\n",
      " 15  schoolsup            386 non-null    object \n",
      " 16  famsup               356 non-null    object \n",
      " 17  paid                 355 non-null    object \n",
      " 18  activities           381 non-null    object \n",
      " 19  nursery              379 non-null    object \n",
      " 20  studytime, granular  388 non-null    float64\n",
      " 21  higher               375 non-null    object \n",
      " 22  internet             361 non-null    object \n",
      " 23  romantic             364 non-null    object \n",
      " 24  famrel               368 non-null    float64\n",
      " 25  freetime             384 non-null    float64\n",
      " 26  goout                387 non-null    float64\n",
      " 27  health               380 non-null    float64\n",
      " 28  absences             383 non-null    float64\n",
      " 29  score                389 non-null    float64\n",
      "dtypes: float64(12), int64(1), object(17)\n",
      "memory usage: 92.7+ KB\n"
     ]
    }
   ],
   "source": [
    "display(study.head(10))\n",
    "study.info() "
   ]
  },
  {
   "cell_type": "markdown",
   "metadata": {},
   "source": [
    "Из таблицы видно, что в столбце \"score\" есть пустые значения. Проверим это:"
   ]
  },
  {
   "cell_type": "code",
   "execution_count": 4,
   "metadata": {},
   "outputs": [
    {
     "name": "stdout",
     "output_type": "stream",
     "text": [
      "[ 30.  50.  75.  55.  95.  45.  60.  70.  80.  25.  40.  85.  90.  65.\n",
      " 100.  35.   0.  nan  20.]\n"
     ]
    }
   ],
   "source": [
    "print(study.score.unique())"
   ]
  },
  {
   "cell_type": "code",
   "execution_count": 5,
   "metadata": {},
   "outputs": [
    {
     "data": {
      "text/plain": [
       "False    389\n",
       "True       6\n",
       "Name: score, dtype: int64"
      ]
     },
     "execution_count": 5,
     "metadata": {},
     "output_type": "execute_result"
    }
   ],
   "source": [
    "study.score.isna().value_counts()"
   ]
  },
  {
   "cell_type": "markdown",
   "metadata": {},
   "source": [
    "Так как нам нужно оценить какие факторы влияют на величину значений в столбце \"score\" и пустых значений там мало - всего 6, удалим из анализа эти 6 строк."
   ]
  },
  {
   "cell_type": "code",
   "execution_count": 6,
   "metadata": {},
   "outputs": [
    {
     "name": "stdout",
     "output_type": "stream",
     "text": [
      "<class 'pandas.core.frame.DataFrame'>\n",
      "Int64Index: 389 entries, 0 to 394\n",
      "Data columns (total 30 columns):\n",
      " #   Column               Non-Null Count  Dtype  \n",
      "---  ------               --------------  -----  \n",
      " 0   school               389 non-null    object \n",
      " 1   sex                  389 non-null    object \n",
      " 2   age                  389 non-null    int64  \n",
      " 3   address              374 non-null    object \n",
      " 4   famsize              362 non-null    object \n",
      " 5   Pstatus              344 non-null    object \n",
      " 6   Medu                 386 non-null    float64\n",
      " 7   Fedu                 365 non-null    float64\n",
      " 8   Mjob                 370 non-null    object \n",
      " 9   Fjob                 353 non-null    object \n",
      " 10  reason               372 non-null    object \n",
      " 11  guardian             358 non-null    object \n",
      " 12  traveltime           361 non-null    float64\n",
      " 13  studytime            382 non-null    float64\n",
      " 14  failures             367 non-null    float64\n",
      " 15  schoolsup            380 non-null    object \n",
      " 16  famsup               351 non-null    object \n",
      " 17  paid                 350 non-null    object \n",
      " 18  activities           375 non-null    object \n",
      " 19  nursery              374 non-null    object \n",
      " 20  studytime, granular  382 non-null    float64\n",
      " 21  higher               369 non-null    object \n",
      " 22  internet             355 non-null    object \n",
      " 23  romantic             358 non-null    object \n",
      " 24  famrel               362 non-null    float64\n",
      " 25  freetime             380 non-null    float64\n",
      " 26  goout                382 non-null    float64\n",
      " 27  health               374 non-null    float64\n",
      " 28  absences             378 non-null    float64\n",
      " 29  score                389 non-null    float64\n",
      "dtypes: float64(12), int64(1), object(17)\n",
      "memory usage: 94.2+ KB\n"
     ]
    }
   ],
   "source": [
    "study1 = study.dropna(subset=['score'], axis=0)\n",
    "study1.info() "
   ]
  },
  {
   "cell_type": "code",
   "execution_count": 7,
   "metadata": {},
   "outputs": [
    {
     "name": "stdout",
     "output_type": "stream",
     "text": [
      "[ -6.  -9.  -3.  nan -12.]\n"
     ]
    },
    {
     "data": {
      "text/plain": [
       "-6.0     189\n",
       "-3.0     103\n",
       "-9.0      63\n",
       "-12.0     27\n",
       "Name: studytime, granular, dtype: int64"
      ]
     },
     "execution_count": 7,
     "metadata": {},
     "output_type": "execute_result"
    }
   ],
   "source": [
    "print(study1['studytime, granular'].unique())\n",
    "study1['studytime, granular'].value_counts()"
   ]
  },
  {
   "cell_type": "code",
   "execution_count": 8,
   "metadata": {},
   "outputs": [
    {
     "name": "stdout",
     "output_type": "stream",
     "text": [
      "[ 2.  3.  1. nan  4.]\n"
     ]
    },
    {
     "data": {
      "text/plain": [
       "2.0    189\n",
       "1.0    103\n",
       "3.0     63\n",
       "4.0     27\n",
       "Name: studytime, dtype: int64"
      ]
     },
     "execution_count": 8,
     "metadata": {},
     "output_type": "execute_result"
    }
   ],
   "source": [
    "print(study1.studytime.unique())\n",
    "study1.studytime.value_counts()"
   ]
  },
  {
   "cell_type": "markdown",
   "metadata": {},
   "source": [
    "Столбец 'studytime, granular'равен столбец 'studytime'  умноженный на -3. Для аналица оба столбца нам не нужны, уберем один из них."
   ]
  },
  {
   "cell_type": "code",
   "execution_count": 9,
   "metadata": {},
   "outputs": [
    {
     "name": "stdout",
     "output_type": "stream",
     "text": [
      "<class 'pandas.core.frame.DataFrame'>\n",
      "Int64Index: 389 entries, 0 to 394\n",
      "Data columns (total 29 columns):\n",
      " #   Column      Non-Null Count  Dtype  \n",
      "---  ------      --------------  -----  \n",
      " 0   school      389 non-null    object \n",
      " 1   sex         389 non-null    object \n",
      " 2   age         389 non-null    int64  \n",
      " 3   address     374 non-null    object \n",
      " 4   famsize     362 non-null    object \n",
      " 5   Pstatus     344 non-null    object \n",
      " 6   Medu        386 non-null    float64\n",
      " 7   Fedu        365 non-null    float64\n",
      " 8   Mjob        370 non-null    object \n",
      " 9   Fjob        353 non-null    object \n",
      " 10  reason      372 non-null    object \n",
      " 11  guardian    358 non-null    object \n",
      " 12  traveltime  361 non-null    float64\n",
      " 13  studytime   382 non-null    float64\n",
      " 14  failures    367 non-null    float64\n",
      " 15  schoolsup   380 non-null    object \n",
      " 16  famsup      351 non-null    object \n",
      " 17  paid        350 non-null    object \n",
      " 18  activities  375 non-null    object \n",
      " 19  nursery     374 non-null    object \n",
      " 20  higher      369 non-null    object \n",
      " 21  internet    355 non-null    object \n",
      " 22  romantic    358 non-null    object \n",
      " 23  famrel      362 non-null    float64\n",
      " 24  freetime    380 non-null    float64\n",
      " 25  goout       382 non-null    float64\n",
      " 26  health      374 non-null    float64\n",
      " 27  absences    378 non-null    float64\n",
      " 28  score       389 non-null    float64\n",
      "dtypes: float64(11), int64(1), object(17)\n",
      "memory usage: 91.2+ KB\n"
     ]
    }
   ],
   "source": [
    "study2 = study1.drop(['studytime, granular'], axis=1)\n",
    "study2.info() "
   ]
  },
  {
   "cell_type": "code",
   "execution_count": 10,
   "metadata": {},
   "outputs": [
    {
     "data": {
      "text/plain": [
       "school                  0\n",
       "sex                     0\n",
       "age                     0\n",
       "address                15\n",
       "famsize                27\n",
       "Pstatus                45\n",
       "Medu                    3\n",
       "Fedu                   24\n",
       "Mjob                   19\n",
       "Fjob                   36\n",
       "reason                 17\n",
       "guardian               31\n",
       "traveltime             28\n",
       "studytime               7\n",
       "failures               22\n",
       "schoolsup               9\n",
       "famsup                 38\n",
       "paid                   39\n",
       "activities             14\n",
       "nursery                15\n",
       "studytime, granular     7\n",
       "higher                 20\n",
       "internet               34\n",
       "romantic               31\n",
       "famrel                 27\n",
       "freetime                9\n",
       "goout                   7\n",
       "health                 15\n",
       "absences               11\n",
       "score                   0\n",
       "dtype: int64"
      ]
     },
     "execution_count": 10,
     "metadata": {},
     "output_type": "execute_result"
    }
   ],
   "source": [
    "study1.isna().sum()"
   ]
  },
  {
   "cell_type": "markdown",
   "metadata": {},
   "source": [
    "Чтобы продолжить анализ, нужно убрать нулевые значения. Проверим каждый столбец на нулевые значения и выберем способ их замены. В первых трех столбцах нулевых значений нет. Начнем со столбца \"address\"."
   ]
  },
  {
   "cell_type": "code",
   "execution_count": 11,
   "metadata": {},
   "outputs": [
    {
     "name": "stdout",
     "output_type": "stream",
     "text": [
      "['U' nan 'R']\n",
      "U    291\n",
      "R     83\n",
      "Name: address, dtype: int64\n",
      "15\n"
     ]
    }
   ],
   "source": [
    "print(study2.address.unique())\n",
    "print(study2.address.value_counts())\n",
    "\n",
    "count = 0\n",
    "for x in study2['address']:\n",
    "    if x != 'U' and x != 'R':\n",
    "        count += 1\n",
    "print(count)        "
   ]
  },
  {
   "cell_type": "markdown",
   "metadata": {},
   "source": [
    "Здесь 15 нулевых значенй. Удалять их нерационально. Заменять только одним значением, считаю нерационально. Применим метод \"ffill\", чтобы значения распределились случайно (предположительно, значений \"U\" должно получиться больше, так как встречаются они чаще)."
   ]
  },
  {
   "cell_type": "code",
   "execution_count": 12,
   "metadata": {},
   "outputs": [],
   "source": [
    "study2['address'] = study2['address'].fillna(value=None,method=\"ffill\")"
   ]
  },
  {
   "cell_type": "code",
   "execution_count": 13,
   "metadata": {},
   "outputs": [
    {
     "name": "stdout",
     "output_type": "stream",
     "text": [
      "U    300\n",
      "R     89\n",
      "Name: address, dtype: int64\n"
     ]
    }
   ],
   "source": [
    "print(study2.address.value_counts())"
   ]
  },
  {
   "cell_type": "markdown",
   "metadata": {},
   "source": [
    "Из 15 значений 9 стали 'U' и 6 - 'R'. То, что нужно."
   ]
  },
  {
   "cell_type": "code",
   "execution_count": null,
   "metadata": {},
   "outputs": [],
   "source": []
  },
  {
   "cell_type": "code",
   "execution_count": null,
   "metadata": {},
   "outputs": [],
   "source": []
  },
  {
   "cell_type": "code",
   "execution_count": null,
   "metadata": {},
   "outputs": [],
   "source": []
  },
  {
   "cell_type": "code",
   "execution_count": null,
   "metadata": {},
   "outputs": [],
   "source": []
  },
  {
   "cell_type": "code",
   "execution_count": 14,
   "metadata": {},
   "outputs": [
    {
     "name": "stdout",
     "output_type": "stream",
     "text": [
      "[nan 'GT3' 'LE3']\n",
      "GT3    255\n",
      "LE3    107\n",
      "Name: famsize, dtype: int64\n",
      "27\n"
     ]
    }
   ],
   "source": [
    "print(study2.famsize.unique())\n",
    "print(study2.famsize.value_counts())\n",
    "\n",
    "count = 0\n",
    "for x in study2['famsize']:\n",
    "    if x != 'GT3' and x != 'LE3':\n",
    "        count += 1\n",
    "print(count)   "
   ]
  },
  {
   "cell_type": "markdown",
   "metadata": {},
   "source": [
    "В столбце famsize 27 пустых значений. Так как у нас есть пустое значение в первой строчке, используем другой метод."
   ]
  },
  {
   "cell_type": "code",
   "execution_count": 15,
   "metadata": {},
   "outputs": [],
   "source": [
    "study2['famsize'] = study2['famsize'].fillna(value=None,method=\"bfill\")"
   ]
  },
  {
   "cell_type": "code",
   "execution_count": 16,
   "metadata": {},
   "outputs": [
    {
     "name": "stdout",
     "output_type": "stream",
     "text": [
      "GT3    275\n",
      "LE3    114\n",
      "Name: famsize, dtype: int64\n"
     ]
    }
   ],
   "source": [
    "print(study2.famsize.value_counts())"
   ]
  },
  {
   "cell_type": "code",
   "execution_count": 17,
   "metadata": {},
   "outputs": [
    {
     "name": "stdout",
     "output_type": "stream",
     "text": [
      "['A' nan 'T']\n",
      "T    308\n",
      "A     36\n",
      "Name: Pstatus, dtype: int64\n",
      "45\n"
     ]
    }
   ],
   "source": [
    "print(study2.Pstatus.unique())\n",
    "print(study2.Pstatus.value_counts())\n",
    "\n",
    "count = 0\n",
    "for x in study2['Pstatus']:\n",
    "    if x != 'T' and x != 'A':\n",
    "        count += 1\n",
    "print(count) "
   ]
  },
  {
   "cell_type": "markdown",
   "metadata": {},
   "source": [
    "В столбце Pstatus 45 пустых значений. Заменяем."
   ]
  },
  {
   "cell_type": "code",
   "execution_count": 18,
   "metadata": {},
   "outputs": [],
   "source": [
    "study2['Pstatus'] = study2['Pstatus'].fillna(value=None,method=\"ffill\")"
   ]
  },
  {
   "cell_type": "code",
   "execution_count": 19,
   "metadata": {},
   "outputs": [
    {
     "name": "stdout",
     "output_type": "stream",
     "text": [
      "T    347\n",
      "A     42\n",
      "Name: Pstatus, dtype: int64\n"
     ]
    }
   ],
   "source": [
    "print(study2.Pstatus.value_counts())"
   ]
  },
  {
   "cell_type": "code",
   "execution_count": 20,
   "metadata": {},
   "outputs": [
    {
     "name": "stdout",
     "output_type": "stream",
     "text": [
      "[ 4.  1.  3.  2. nan  0.]\n",
      "4.0    131\n",
      "2.0    100\n",
      "3.0     96\n",
      "1.0     56\n",
      "0.0      3\n",
      "Name: Medu, dtype: int64\n",
      "3\n"
     ]
    }
   ],
   "source": [
    "print(study2.Medu.unique())\n",
    "print(study2.Medu.value_counts())\n",
    "\n",
    "count = 0\n",
    "for x in study2['Medu']:\n",
    "    if x not in [0.0,1.0,2.0,3.0,4.0]:\n",
    "        count += 1\n",
    "print(count)   "
   ]
  },
  {
   "cell_type": "markdown",
   "metadata": {},
   "source": [
    "В этом столбике всего 3 пустых значения. Давайте вставим вместо них самое часто встречающееся значение."
   ]
  },
  {
   "cell_type": "code",
   "execution_count": 21,
   "metadata": {},
   "outputs": [],
   "source": [
    "study2.Medu = study2.Medu.apply(lambda x: 4.0 if pd.isna(x) == True else x)"
   ]
  },
  {
   "cell_type": "code",
   "execution_count": 22,
   "metadata": {},
   "outputs": [
    {
     "name": "stdout",
     "output_type": "stream",
     "text": [
      "4.0    134\n",
      "2.0    100\n",
      "3.0     96\n",
      "1.0     56\n",
      "0.0      3\n",
      "Name: Medu, dtype: int64\n"
     ]
    }
   ],
   "source": [
    "print(study2.Medu.value_counts())"
   ]
  },
  {
   "cell_type": "code",
   "execution_count": 23,
   "metadata": {},
   "outputs": [
    {
     "name": "stdout",
     "output_type": "stream",
     "text": [
      "[ 4.  1.  2.  3. 40. nan  0.]\n",
      "2.0     105\n",
      "3.0      94\n",
      "4.0      88\n",
      "1.0      75\n",
      "0.0       2\n",
      "40.0      1\n",
      "Name: Fedu, dtype: int64\n",
      "25\n"
     ]
    }
   ],
   "source": [
    "print(study2.Fedu.unique())\n",
    "print(study2.Fedu.value_counts())\n",
    "\n",
    "count = 0\n",
    "for x in study2['Fedu']:\n",
    "    if x not in [0.0,1.0,2.0,3.0,4.0]:\n",
    "        count += 1\n",
    "print(count)"
   ]
  },
  {
   "cell_type": "code",
   "execution_count": 24,
   "metadata": {},
   "outputs": [],
   "source": [
    "study2['Fedu'] = study2['Fedu'].fillna(value=None,method=\"ffill\")"
   ]
  },
  {
   "cell_type": "code",
   "execution_count": 25,
   "metadata": {},
   "outputs": [
    {
     "name": "stdout",
     "output_type": "stream",
     "text": [
      "2.0     111\n",
      "3.0     103\n",
      "4.0      92\n",
      "1.0      80\n",
      "0.0       2\n",
      "40.0      1\n",
      "Name: Fedu, dtype: int64\n"
     ]
    }
   ],
   "source": [
    "print(study2.Fedu.value_counts())"
   ]
  },
  {
   "cell_type": "markdown",
   "metadata": {},
   "source": [
    "Одно значение выбивается из списка и равно 40.0. Очевидно, это ошибка ввода, заменим его на 4.0"
   ]
  },
  {
   "cell_type": "code",
   "execution_count": 26,
   "metadata": {},
   "outputs": [],
   "source": [
    "study2.Fedu = study2.Fedu.replace(to_replace = 40.0, value =4.0)"
   ]
  },
  {
   "cell_type": "code",
   "execution_count": 27,
   "metadata": {},
   "outputs": [
    {
     "name": "stdout",
     "output_type": "stream",
     "text": [
      "2.0    111\n",
      "3.0    103\n",
      "4.0     93\n",
      "1.0     80\n",
      "0.0      2\n",
      "Name: Fedu, dtype: int64\n"
     ]
    }
   ],
   "source": [
    "print(study2.Fedu.value_counts())"
   ]
  },
  {
   "cell_type": "markdown",
   "metadata": {},
   "source": [
    "В тех столбцах, в которых присутствует ответ \"Другое\", заменим пустые строчки этим ответом"
   ]
  },
  {
   "cell_type": "code",
   "execution_count": 28,
   "metadata": {},
   "outputs": [
    {
     "name": "stdout",
     "output_type": "stream",
     "text": [
      "['at_home' 'health' 'other' 'services' 'teacher' nan]\n",
      "other       127\n",
      "services     98\n",
      "at_home      58\n",
      "teacher      55\n",
      "health       32\n",
      "Name: Mjob, dtype: int64\n",
      "19\n"
     ]
    }
   ],
   "source": [
    "print(study2.Mjob.unique())\n",
    "print(study2.Mjob.value_counts())\n",
    "\n",
    "count = 0\n",
    "for x in study2['Mjob']:\n",
    "    if x not in ['teacher','health','services','at_home','other']:\n",
    "        count += 1\n",
    "print(count)"
   ]
  },
  {
   "cell_type": "code",
   "execution_count": 29,
   "metadata": {},
   "outputs": [],
   "source": [
    "study2.Mjob = study2.Mjob.apply(lambda x: 'other' if pd.isna(x) == True else x)"
   ]
  },
  {
   "cell_type": "code",
   "execution_count": 30,
   "metadata": {},
   "outputs": [
    {
     "name": "stdout",
     "output_type": "stream",
     "text": [
      "other       146\n",
      "services     98\n",
      "at_home      58\n",
      "teacher      55\n",
      "health       32\n",
      "Name: Mjob, dtype: int64\n"
     ]
    }
   ],
   "source": [
    "print(study2.Mjob.value_counts())"
   ]
  },
  {
   "cell_type": "code",
   "execution_count": 31,
   "metadata": {},
   "outputs": [
    {
     "name": "stdout",
     "output_type": "stream",
     "text": [
      "['teacher' 'other' nan 'health' 'services' 'at_home']\n",
      "other       194\n",
      "services     99\n",
      "teacher      29\n",
      "at_home      16\n",
      "health       15\n",
      "Name: Fjob, dtype: int64\n",
      "36\n"
     ]
    }
   ],
   "source": [
    "print(study2.Fjob.unique())\n",
    "print(study2.Fjob.value_counts())\n",
    "\n",
    "count = 0\n",
    "for x in study2['Fjob']:\n",
    "    if x not in ['teacher','health','services','at_home','other']:\n",
    "        count += 1\n",
    "print(count)"
   ]
  },
  {
   "cell_type": "code",
   "execution_count": 32,
   "metadata": {},
   "outputs": [],
   "source": [
    "study2.Fjob = study2.Fjob.apply(lambda x: 'other' if pd.isna(x) == True else x)"
   ]
  },
  {
   "cell_type": "code",
   "execution_count": 33,
   "metadata": {},
   "outputs": [
    {
     "name": "stdout",
     "output_type": "stream",
     "text": [
      "other       230\n",
      "services     99\n",
      "teacher      29\n",
      "at_home      16\n",
      "health       15\n",
      "Name: Fjob, dtype: int64\n"
     ]
    }
   ],
   "source": [
    "print(study2.Fjob.value_counts())"
   ]
  },
  {
   "cell_type": "code",
   "execution_count": 34,
   "metadata": {},
   "outputs": [
    {
     "name": "stdout",
     "output_type": "stream",
     "text": [
      "['course' 'other' 'home' 'reputation' nan]\n",
      "course        135\n",
      "reputation    102\n",
      "home          101\n",
      "other          34\n",
      "Name: reason, dtype: int64\n",
      "17\n"
     ]
    }
   ],
   "source": [
    "print(study2.reason.unique())\n",
    "print(study2.reason.value_counts())\n",
    "\n",
    "count = 0\n",
    "for x in study2['reason']:\n",
    "    if x not in ['home','reputation','course','other']:\n",
    "        count += 1\n",
    "print(count)"
   ]
  },
  {
   "cell_type": "code",
   "execution_count": 35,
   "metadata": {},
   "outputs": [],
   "source": [
    "study2.reason = study2.reason.apply(lambda x: 'other' if pd.isna(x) == True else x)"
   ]
  },
  {
   "cell_type": "code",
   "execution_count": 36,
   "metadata": {},
   "outputs": [
    {
     "name": "stdout",
     "output_type": "stream",
     "text": [
      "course        135\n",
      "reputation    102\n",
      "home          101\n",
      "other          51\n",
      "Name: reason, dtype: int64\n"
     ]
    }
   ],
   "source": [
    "print(study2.reason.value_counts())"
   ]
  },
  {
   "cell_type": "markdown",
   "metadata": {},
   "source": [
    "В этом столбце нельзя обозначить нулевые значения как \"другое\", так как это означает что опекуном является кто-то из родственников, а такие случаи не часты. Нулевых же значений больше, чем ответов \"другое\" и намеренное завышение показателя испортит статистику. Поэтому выделим нулевые значения в отдельную категорию \"нет ответа\". (Если бы их было меньше, можно было бы распределить их между 'mother'и 'father' или прибавить только к 'mother')."
   ]
  },
  {
   "cell_type": "code",
   "execution_count": 37,
   "metadata": {},
   "outputs": [
    {
     "name": "stdout",
     "output_type": "stream",
     "text": [
      "['mother' 'father' 'other' nan]\n",
      "mother    248\n",
      "father     86\n",
      "other      24\n",
      "Name: guardian, dtype: int64\n",
      "31\n"
     ]
    }
   ],
   "source": [
    "print(study2.guardian.unique())\n",
    "print(study2.guardian.value_counts())\n",
    "\n",
    "count = 0\n",
    "for x in study2['guardian']:\n",
    "    if x not in ['mother','father','other']:\n",
    "        count += 1\n",
    "print(count)"
   ]
  },
  {
   "cell_type": "code",
   "execution_count": 38,
   "metadata": {},
   "outputs": [],
   "source": [
    "study2.guardian = study2.guardian.apply(lambda x: 'no_answer' if pd.isna(x) == True else x)"
   ]
  },
  {
   "cell_type": "code",
   "execution_count": 39,
   "metadata": {},
   "outputs": [
    {
     "name": "stdout",
     "output_type": "stream",
     "text": [
      "mother       248\n",
      "father        86\n",
      "no_answer     31\n",
      "other         24\n",
      "Name: guardian, dtype: int64\n"
     ]
    }
   ],
   "source": [
    "print(study2.guardian.value_counts())"
   ]
  },
  {
   "cell_type": "markdown",
   "metadata": {},
   "source": [
    "В столбцах, значения которых варьируются от 1 до 5 распределим нулевые значения методом \"ffill\"."
   ]
  },
  {
   "cell_type": "code",
   "execution_count": 40,
   "metadata": {},
   "outputs": [
    {
     "name": "stdout",
     "output_type": "stream",
     "text": [
      "[ 2.  1.  3. nan  4.]\n",
      "1.0    239\n",
      "2.0     94\n",
      "3.0     21\n",
      "4.0      7\n",
      "Name: traveltime, dtype: int64\n",
      "28\n"
     ]
    }
   ],
   "source": [
    "print(study2.traveltime.unique())\n",
    "print(study2.traveltime.value_counts())\n",
    "\n",
    "count = 0\n",
    "for x in study2['traveltime']:\n",
    "    if x not in [1,2,3,4]:\n",
    "        count += 1\n",
    "print(count)"
   ]
  },
  {
   "cell_type": "code",
   "execution_count": 41,
   "metadata": {},
   "outputs": [],
   "source": [
    "study2['traveltime'] = study2['traveltime'].fillna(value=None,method=\"ffill\")"
   ]
  },
  {
   "cell_type": "code",
   "execution_count": 42,
   "metadata": {},
   "outputs": [
    {
     "name": "stdout",
     "output_type": "stream",
     "text": [
      "1.0    257\n",
      "2.0    101\n",
      "3.0     24\n",
      "4.0      7\n",
      "Name: traveltime, dtype: int64\n"
     ]
    }
   ],
   "source": [
    "print(study2.traveltime.value_counts())"
   ]
  },
  {
   "cell_type": "code",
   "execution_count": 43,
   "metadata": {},
   "outputs": [
    {
     "name": "stdout",
     "output_type": "stream",
     "text": [
      "[ 2.  3.  1. nan  4.]\n",
      "2.0    189\n",
      "1.0    103\n",
      "3.0     63\n",
      "4.0     27\n",
      "Name: studytime, dtype: int64\n",
      "7\n"
     ]
    }
   ],
   "source": [
    "print(study2.studytime.unique())\n",
    "print(study2.studytime.value_counts())\n",
    "\n",
    "count = 0\n",
    "for x in study2['studytime']:\n",
    "    if x not in [1,2,3,4]:\n",
    "        count += 1\n",
    "print(count)"
   ]
  },
  {
   "cell_type": "code",
   "execution_count": 44,
   "metadata": {},
   "outputs": [],
   "source": [
    "study2.studytime = study2.studytime.apply(lambda x: 2.0 if pd.isna(x) == True else x)"
   ]
  },
  {
   "cell_type": "code",
   "execution_count": 45,
   "metadata": {},
   "outputs": [
    {
     "name": "stdout",
     "output_type": "stream",
     "text": [
      "2.0    196\n",
      "1.0    103\n",
      "3.0     63\n",
      "4.0     27\n",
      "Name: studytime, dtype: int64\n"
     ]
    }
   ],
   "source": [
    "print(study2.studytime.value_counts())"
   ]
  },
  {
   "cell_type": "code",
   "execution_count": 46,
   "metadata": {},
   "outputs": [
    {
     "name": "stdout",
     "output_type": "stream",
     "text": [
      "[ 0.  3. nan  2.  1.]\n",
      "0.0    290\n",
      "1.0     48\n",
      "2.0     15\n",
      "3.0     14\n",
      "Name: failures, dtype: int64\n",
      "22\n"
     ]
    }
   ],
   "source": [
    "print(study2.failures.unique())\n",
    "print(study2.failures.value_counts())\n",
    "\n",
    "count = 0\n",
    "for x in study2['failures']:\n",
    "    if x not in [0,1,2,3]:\n",
    "        count += 1\n",
    "print(count)"
   ]
  },
  {
   "cell_type": "code",
   "execution_count": 47,
   "metadata": {},
   "outputs": [],
   "source": [
    "study2.failures = study2.failures.apply(lambda x: 0.0 if pd.isna(x) == True else x)"
   ]
  },
  {
   "cell_type": "code",
   "execution_count": 48,
   "metadata": {},
   "outputs": [
    {
     "name": "stdout",
     "output_type": "stream",
     "text": [
      "0.0    312\n",
      "1.0     48\n",
      "2.0     15\n",
      "3.0     14\n",
      "Name: failures, dtype: int64\n"
     ]
    }
   ],
   "source": [
    "print(study2.failures.value_counts())"
   ]
  },
  {
   "cell_type": "markdown",
   "metadata": {},
   "source": [
    "Дальше идет несколько столбцов, значения в которых равны 'yes' или 'no'. Так же заменим нулевые значения методом \"ffill\", чтобы значения распределились равномерно. В столбце 'activities' значений примерно поровну, можно бы было так же распределить и 14 нулевых значений - по 7 в каждый ответ. Но метод \"ffill\" распределил значения 8/6, это нас тоже устраивает. "
   ]
  },
  {
   "cell_type": "code",
   "execution_count": 49,
   "metadata": {},
   "outputs": [
    {
     "name": "stdout",
     "output_type": "stream",
     "text": [
      "['yes' 'no' nan]\n",
      "no     331\n",
      "yes     49\n",
      "Name: schoolsup, dtype: int64\n",
      "9\n"
     ]
    }
   ],
   "source": [
    "print(study2.schoolsup.unique())\n",
    "print(study2.schoolsup.value_counts())\n",
    "\n",
    "count = 0\n",
    "for x in study2['schoolsup']:\n",
    "    if x not in ['yes','no']:\n",
    "        count += 1\n",
    "print(count)"
   ]
  },
  {
   "cell_type": "code",
   "execution_count": 50,
   "metadata": {},
   "outputs": [],
   "source": [
    "study2['schoolsup'] = study2['schoolsup'].fillna(value=None,method=\"ffill\")"
   ]
  },
  {
   "cell_type": "code",
   "execution_count": 51,
   "metadata": {},
   "outputs": [
    {
     "name": "stdout",
     "output_type": "stream",
     "text": [
      "no     339\n",
      "yes     50\n",
      "Name: schoolsup, dtype: int64\n"
     ]
    }
   ],
   "source": [
    "print(study2.schoolsup.value_counts())"
   ]
  },
  {
   "cell_type": "code",
   "execution_count": 52,
   "metadata": {},
   "outputs": [
    {
     "name": "stdout",
     "output_type": "stream",
     "text": [
      "['no' 'yes' nan]\n",
      "yes    216\n",
      "no     135\n",
      "Name: famsup, dtype: int64\n",
      "38\n"
     ]
    }
   ],
   "source": [
    "print(study2.famsup.unique())\n",
    "print(study2.famsup.value_counts())\n",
    "\n",
    "count = 0\n",
    "for x in study2['famsup']:\n",
    "    if x not in ['yes','no']:\n",
    "        count += 1\n",
    "print(count)"
   ]
  },
  {
   "cell_type": "code",
   "execution_count": 53,
   "metadata": {},
   "outputs": [],
   "source": [
    "study2['famsup'] = study2['famsup'].fillna(value=None,method=\"ffill\")"
   ]
  },
  {
   "cell_type": "code",
   "execution_count": 54,
   "metadata": {},
   "outputs": [
    {
     "name": "stdout",
     "output_type": "stream",
     "text": [
      "yes    238\n",
      "no     151\n",
      "Name: famsup, dtype: int64\n"
     ]
    }
   ],
   "source": [
    "print(study2.famsup.value_counts())"
   ]
  },
  {
   "cell_type": "code",
   "execution_count": 55,
   "metadata": {},
   "outputs": [
    {
     "name": "stdout",
     "output_type": "stream",
     "text": [
      "['no' nan 'yes']\n",
      "no     197\n",
      "yes    153\n",
      "Name: paid, dtype: int64\n",
      "39\n"
     ]
    }
   ],
   "source": [
    "print(study2.paid.unique())\n",
    "print(study2.paid.value_counts())\n",
    "\n",
    "count = 0\n",
    "for x in study2['paid']:\n",
    "    if x not in ['yes','no']:\n",
    "        count += 1\n",
    "print(count)"
   ]
  },
  {
   "cell_type": "code",
   "execution_count": 56,
   "metadata": {},
   "outputs": [],
   "source": [
    "study2['paid'] = study2['paid'].fillna(value=None,method=\"ffill\")"
   ]
  },
  {
   "cell_type": "code",
   "execution_count": 57,
   "metadata": {},
   "outputs": [
    {
     "name": "stdout",
     "output_type": "stream",
     "text": [
      "no     220\n",
      "yes    169\n",
      "Name: paid, dtype: int64\n"
     ]
    }
   ],
   "source": [
    "print(study2.paid.value_counts())"
   ]
  },
  {
   "cell_type": "code",
   "execution_count": 58,
   "metadata": {},
   "outputs": [
    {
     "name": "stdout",
     "output_type": "stream",
     "text": [
      "['no' 'yes' nan]\n",
      "yes    192\n",
      "no     183\n",
      "Name: activities, dtype: int64\n",
      "14\n"
     ]
    }
   ],
   "source": [
    "print(study2.activities.unique())\n",
    "print(study2.activities.value_counts())\n",
    "\n",
    "count = 0\n",
    "for x in study2['activities']:\n",
    "    if x not in ['yes','no']:\n",
    "        count += 1\n",
    "print(count)"
   ]
  },
  {
   "cell_type": "code",
   "execution_count": 59,
   "metadata": {},
   "outputs": [],
   "source": [
    "study2['activities'] = study2['activities'].fillna(value=None,method=\"ffill\")"
   ]
  },
  {
   "cell_type": "code",
   "execution_count": 60,
   "metadata": {},
   "outputs": [
    {
     "name": "stdout",
     "output_type": "stream",
     "text": [
      "yes    200\n",
      "no     189\n",
      "Name: activities, dtype: int64\n"
     ]
    }
   ],
   "source": [
    "print(study2.activities.value_counts())"
   ]
  },
  {
   "cell_type": "code",
   "execution_count": 61,
   "metadata": {},
   "outputs": [
    {
     "name": "stdout",
     "output_type": "stream",
     "text": [
      "['yes' 'no' nan]\n",
      "yes    297\n",
      "no      77\n",
      "Name: nursery, dtype: int64\n",
      "15\n"
     ]
    }
   ],
   "source": [
    "print(study2.nursery.unique())\n",
    "print(study2.nursery.value_counts())\n",
    "\n",
    "count = 0\n",
    "for x in study2['nursery']:\n",
    "    if x not in ['yes','no']:\n",
    "        count += 1\n",
    "print(count)"
   ]
  },
  {
   "cell_type": "code",
   "execution_count": 62,
   "metadata": {},
   "outputs": [],
   "source": [
    "study2['nursery'] = study2['nursery'].fillna(value=None,method=\"ffill\")"
   ]
  },
  {
   "cell_type": "code",
   "execution_count": 63,
   "metadata": {},
   "outputs": [
    {
     "name": "stdout",
     "output_type": "stream",
     "text": [
      "yes    309\n",
      "no      80\n",
      "Name: nursery, dtype: int64\n"
     ]
    }
   ],
   "source": [
    "print(study2.nursery.value_counts())"
   ]
  },
  {
   "cell_type": "code",
   "execution_count": 64,
   "metadata": {},
   "outputs": [
    {
     "name": "stdout",
     "output_type": "stream",
     "text": [
      "['yes' nan 'no']\n",
      "yes    350\n",
      "no      19\n",
      "Name: higher, dtype: int64\n",
      "20\n"
     ]
    }
   ],
   "source": [
    "print(study2.higher.unique())\n",
    "print(study2.higher.value_counts())\n",
    "\n",
    "count = 0\n",
    "for x in study2['higher']:\n",
    "    if x not in ['yes','no']:\n",
    "        count += 1\n",
    "print(count)"
   ]
  },
  {
   "cell_type": "code",
   "execution_count": 65,
   "metadata": {},
   "outputs": [],
   "source": [
    "study2['higher'] = study2['higher'].fillna(value=None,method=\"ffill\")"
   ]
  },
  {
   "cell_type": "code",
   "execution_count": 66,
   "metadata": {},
   "outputs": [
    {
     "name": "stdout",
     "output_type": "stream",
     "text": [
      "yes    368\n",
      "no      21\n",
      "Name: higher, dtype: int64\n"
     ]
    }
   ],
   "source": [
    "print(study2.higher.value_counts())"
   ]
  },
  {
   "cell_type": "code",
   "execution_count": 67,
   "metadata": {},
   "outputs": [
    {
     "name": "stdout",
     "output_type": "stream",
     "text": [
      "[nan 'yes' 'no']\n",
      "yes    300\n",
      "no      55\n",
      "Name: internet, dtype: int64\n",
      "34\n"
     ]
    }
   ],
   "source": [
    "print(study2.internet.unique())\n",
    "print(study2.internet.value_counts())\n",
    "\n",
    "count = 0\n",
    "for x in study2['internet']:\n",
    "    if x not in ['yes','no']:\n",
    "        count += 1\n",
    "print(count)"
   ]
  },
  {
   "cell_type": "code",
   "execution_count": 68,
   "metadata": {},
   "outputs": [],
   "source": [
    "study2['internet'] = study2['internet'].fillna(value=None,method=\"bfill\")"
   ]
  },
  {
   "cell_type": "code",
   "execution_count": 69,
   "metadata": {},
   "outputs": [
    {
     "name": "stdout",
     "output_type": "stream",
     "text": [
      "yes    328\n",
      "no      61\n",
      "Name: internet, dtype: int64\n"
     ]
    }
   ],
   "source": [
    "print(study2.internet.value_counts())"
   ]
  },
  {
   "cell_type": "code",
   "execution_count": 70,
   "metadata": {},
   "outputs": [
    {
     "name": "stdout",
     "output_type": "stream",
     "text": [
      "['no' nan 'yes']\n",
      "no     235\n",
      "yes    123\n",
      "Name: romantic, dtype: int64\n",
      "31\n"
     ]
    }
   ],
   "source": [
    "print(study2.romantic.unique())\n",
    "print(study2.romantic.value_counts())\n",
    "\n",
    "count = 0\n",
    "for x in study2['romantic']:\n",
    "    if x not in ['yes','no']:\n",
    "        count += 1\n",
    "print(count)"
   ]
  },
  {
   "cell_type": "code",
   "execution_count": 71,
   "metadata": {},
   "outputs": [],
   "source": [
    "study2['romantic'] = study2['romantic'].fillna(value=None,method=\"ffill\")"
   ]
  },
  {
   "cell_type": "code",
   "execution_count": 72,
   "metadata": {},
   "outputs": [
    {
     "name": "stdout",
     "output_type": "stream",
     "text": [
      "no     255\n",
      "yes    134\n",
      "Name: romantic, dtype: int64\n"
     ]
    }
   ],
   "source": [
    "print(study2.romantic.value_counts())"
   ]
  },
  {
   "cell_type": "code",
   "execution_count": 73,
   "metadata": {},
   "outputs": [
    {
     "name": "stdout",
     "output_type": "stream",
     "text": [
      "[ 4.  5.  3. nan -1.  2.  1.]\n",
      " 4.0    178\n",
      " 5.0     97\n",
      " 3.0     62\n",
      " 2.0     17\n",
      " 1.0      7\n",
      "-1.0      1\n",
      "Name: famrel, dtype: int64\n",
      "28\n"
     ]
    }
   ],
   "source": [
    "print(study2.famrel.unique())\n",
    "print(study2.famrel.value_counts())\n",
    "\n",
    "count = 0\n",
    "for x in study2['famrel']:\n",
    "    if x not in [1.0,2.0,3.0,4.0,5.0]:\n",
    "        count += 1\n",
    "print(count)"
   ]
  },
  {
   "cell_type": "markdown",
   "metadata": {},
   "source": [
    "Одно значение выбивается из списка и равно -1.0. Очевидно, это ошибка ввода, заменим его на 1.0"
   ]
  },
  {
   "cell_type": "code",
   "execution_count": 74,
   "metadata": {},
   "outputs": [],
   "source": [
    "study2.famrel = study2.famrel.replace(to_replace = -1.0, value =1.0)"
   ]
  },
  {
   "cell_type": "code",
   "execution_count": 75,
   "metadata": {},
   "outputs": [],
   "source": [
    "study2['famrel'] = study2['famrel'].fillna(value=None,method=\"ffill\")"
   ]
  },
  {
   "cell_type": "code",
   "execution_count": 76,
   "metadata": {},
   "outputs": [
    {
     "name": "stdout",
     "output_type": "stream",
     "text": [
      "4.0    188\n",
      "5.0    108\n",
      "3.0     68\n",
      "2.0     17\n",
      "1.0      8\n",
      "Name: famrel, dtype: int64\n"
     ]
    }
   ],
   "source": [
    "print(study2.famrel.value_counts())"
   ]
  },
  {
   "cell_type": "code",
   "execution_count": 77,
   "metadata": {},
   "outputs": [
    {
     "name": "stdout",
     "output_type": "stream",
     "text": [
      "[ 3.  2.  4.  1.  5. nan]\n",
      "3.0    152\n",
      "4.0    110\n",
      "2.0     63\n",
      "5.0     37\n",
      "1.0     18\n",
      "Name: freetime, dtype: int64\n",
      "9\n"
     ]
    }
   ],
   "source": [
    "print(study2.freetime.unique())\n",
    "print(study2.freetime.value_counts())\n",
    "\n",
    "count = 0\n",
    "for x in study2['freetime']:\n",
    "    if x not in [1.0,2.0,3.0,4.0,5.0]:\n",
    "        count += 1\n",
    "print(count)"
   ]
  },
  {
   "cell_type": "code",
   "execution_count": 78,
   "metadata": {},
   "outputs": [],
   "source": [
    "study2['freetime'] = study2['freetime'].fillna(value=None,method=\"ffill\")"
   ]
  },
  {
   "cell_type": "code",
   "execution_count": 79,
   "metadata": {},
   "outputs": [
    {
     "name": "stdout",
     "output_type": "stream",
     "text": [
      "3.0    155\n",
      "4.0    112\n",
      "2.0     67\n",
      "5.0     37\n",
      "1.0     18\n",
      "Name: freetime, dtype: int64\n"
     ]
    }
   ],
   "source": [
    "print(study2.freetime.value_counts())"
   ]
  },
  {
   "cell_type": "code",
   "execution_count": 80,
   "metadata": {},
   "outputs": [
    {
     "name": "stdout",
     "output_type": "stream",
     "text": [
      "[ 4.  3.  2.  1.  5. nan]\n",
      "3.0    126\n",
      "2.0    101\n",
      "4.0     81\n",
      "5.0     51\n",
      "1.0     23\n",
      "Name: goout, dtype: int64\n",
      "7\n"
     ]
    }
   ],
   "source": [
    "print(study2.goout.unique())\n",
    "print(study2.goout.value_counts())\n",
    "\n",
    "count = 0\n",
    "for x in study2['goout']:\n",
    "    if x not in [1.0,2.0,3.0,4.0,5.0]:\n",
    "        count += 1\n",
    "print(count)"
   ]
  },
  {
   "cell_type": "code",
   "execution_count": 81,
   "metadata": {},
   "outputs": [],
   "source": [
    "study2['goout'] = study2['goout'].fillna(value=None,method=\"ffill\")"
   ]
  },
  {
   "cell_type": "code",
   "execution_count": 82,
   "metadata": {},
   "outputs": [
    {
     "name": "stdout",
     "output_type": "stream",
     "text": [
      "3.0    126\n",
      "2.0    105\n",
      "4.0     81\n",
      "5.0     54\n",
      "1.0     23\n",
      "Name: goout, dtype: int64\n"
     ]
    }
   ],
   "source": [
    "print(study2.goout.value_counts())"
   ]
  },
  {
   "cell_type": "code",
   "execution_count": 83,
   "metadata": {},
   "outputs": [
    {
     "name": "stdout",
     "output_type": "stream",
     "text": [
      "[ 3.  5.  1.  2.  4. nan]\n",
      "5.0    137\n",
      "3.0     88\n",
      "4.0     60\n",
      "1.0     47\n",
      "2.0     42\n",
      "Name: health, dtype: int64\n",
      "15\n"
     ]
    }
   ],
   "source": [
    "print(study2.health.unique())\n",
    "print(study2.health.value_counts())\n",
    "\n",
    "count = 0\n",
    "for x in study2['health']:\n",
    "    if x not in [1.0,2.0,3.0,4.0,5.0]:\n",
    "        count += 1\n",
    "print(count)"
   ]
  },
  {
   "cell_type": "code",
   "execution_count": 84,
   "metadata": {},
   "outputs": [],
   "source": [
    "study2['health'] = study2['health'].fillna(value=None,method=\"ffill\")"
   ]
  },
  {
   "cell_type": "code",
   "execution_count": 85,
   "metadata": {},
   "outputs": [
    {
     "name": "stdout",
     "output_type": "stream",
     "text": [
      "5.0    140\n",
      "3.0     90\n",
      "4.0     63\n",
      "1.0     51\n",
      "2.0     45\n",
      "Name: health, dtype: int64\n"
     ]
    }
   ],
   "source": [
    "print(study2.health.value_counts())"
   ]
  },
  {
   "cell_type": "markdown",
   "metadata": {},
   "source": [
    "В столбце \"absences\" заменим пустые значения медианой. "
   ]
  },
  {
   "cell_type": "code",
   "execution_count": 86,
   "metadata": {},
   "outputs": [
    {
     "name": "stdout",
     "output_type": "stream",
     "text": [
      "[  6.   4.  10.   2.   0.  16.  nan  14.   7.   8.  25.  12.  54.  18.\n",
      "  26.  20.  56.  24.  28.   5.  13.  15.  22.   3. 385.  21.   1.  75.\n",
      "  30.  19.   9.  11.  38.  40.  23.  17. 212.]\n",
      "0.0      110\n",
      "2.0       60\n",
      "4.0       52\n",
      "6.0       30\n",
      "8.0       20\n",
      "10.0      17\n",
      "12.0      12\n",
      "14.0      12\n",
      "3.0        7\n",
      "16.0       7\n",
      "7.0        6\n",
      "5.0        5\n",
      "18.0       5\n",
      "20.0       4\n",
      "22.0       3\n",
      "9.0        3\n",
      "1.0        3\n",
      "15.0       2\n",
      "13.0       2\n",
      "11.0       2\n",
      "25.0       1\n",
      "54.0       1\n",
      "385.0      1\n",
      "26.0       1\n",
      "56.0       1\n",
      "24.0       1\n",
      "212.0      1\n",
      "21.0       1\n",
      "75.0       1\n",
      "30.0       1\n",
      "19.0       1\n",
      "38.0       1\n",
      "40.0       1\n",
      "23.0       1\n",
      "17.0       1\n",
      "28.0       1\n",
      "Name: absences, dtype: int64\n"
     ]
    }
   ],
   "source": [
    "print(study2.absences.unique())\n",
    "print(study2.absences.value_counts())"
   ]
  },
  {
   "cell_type": "code",
   "execution_count": 87,
   "metadata": {},
   "outputs": [],
   "source": [
    "study2['absences'] = study2['absences'].fillna(study2['absences'].median())"
   ]
  },
  {
   "cell_type": "code",
   "execution_count": 88,
   "metadata": {},
   "outputs": [
    {
     "name": "stdout",
     "output_type": "stream",
     "text": [
      "0.0      110\n",
      "4.0       63\n",
      "2.0       60\n",
      "6.0       30\n",
      "8.0       20\n",
      "10.0      17\n",
      "12.0      12\n",
      "14.0      12\n",
      "3.0        7\n",
      "16.0       7\n",
      "7.0        6\n",
      "5.0        5\n",
      "18.0       5\n",
      "20.0       4\n",
      "22.0       3\n",
      "9.0        3\n",
      "1.0        3\n",
      "15.0       2\n",
      "13.0       2\n",
      "11.0       2\n",
      "25.0       1\n",
      "54.0       1\n",
      "385.0      1\n",
      "26.0       1\n",
      "56.0       1\n",
      "24.0       1\n",
      "212.0      1\n",
      "21.0       1\n",
      "75.0       1\n",
      "30.0       1\n",
      "19.0       1\n",
      "38.0       1\n",
      "40.0       1\n",
      "23.0       1\n",
      "17.0       1\n",
      "28.0       1\n",
      "Name: absences, dtype: int64\n"
     ]
    }
   ],
   "source": [
    "print(study2.absences.value_counts())"
   ]
  },
  {
   "cell_type": "markdown",
   "metadata": {},
   "source": [
    "Проверяем, что больше нет пропусков:"
   ]
  },
  {
   "cell_type": "code",
   "execution_count": 89,
   "metadata": {},
   "outputs": [
    {
     "data": {
      "text/plain": [
       "school        0\n",
       "sex           0\n",
       "age           0\n",
       "address       0\n",
       "famsize       0\n",
       "Pstatus       0\n",
       "Medu          0\n",
       "Fedu          0\n",
       "Mjob          0\n",
       "Fjob          0\n",
       "reason        0\n",
       "guardian      0\n",
       "traveltime    0\n",
       "studytime     0\n",
       "failures      0\n",
       "schoolsup     0\n",
       "famsup        0\n",
       "paid          0\n",
       "activities    0\n",
       "nursery       0\n",
       "higher        0\n",
       "internet      0\n",
       "romantic      0\n",
       "famrel        0\n",
       "freetime      0\n",
       "goout         0\n",
       "health        0\n",
       "absences      0\n",
       "score         0\n",
       "dtype: int64"
      ]
     },
     "execution_count": 89,
     "metadata": {},
     "output_type": "execute_result"
    }
   ],
   "source": [
    "study2.isna().sum()"
   ]
  },
  {
   "cell_type": "markdown",
   "metadata": {},
   "source": [
    "Теперь проверим числовые столбцы на наличие выбросов. На предыдущем шаге видно, что в столбцах, где нужно указать значение признака от 0 до 5 все заполнено верно. Даже если какое-то значение встречается очень малое количество раз - это не выброс. Поэтому, теоретически, выбросы могут быть только в столбцах \"age\" и \"absences\"."
   ]
  },
  {
   "cell_type": "code",
   "execution_count": 90,
   "metadata": {},
   "outputs": [
    {
     "name": "stdout",
     "output_type": "stream",
     "text": [
      "[18 17 15 16 19 22 20 21]\n"
     ]
    },
    {
     "data": {
      "text/plain": [
       "16    103\n",
       "17     98\n",
       "15     82\n",
       "18     80\n",
       "19     21\n",
       "20      3\n",
       "22      1\n",
       "21      1\n",
       "Name: age, dtype: int64"
      ]
     },
     "execution_count": 90,
     "metadata": {},
     "output_type": "execute_result"
    }
   ],
   "source": [
    "print(study2.age.unique())\n",
    "study2.age.value_counts()"
   ]
  },
  {
   "cell_type": "markdown",
   "metadata": {},
   "source": [
    "В задании сказано: Суть проекта — отследить влияние условий жизни учащихся в возрасте от 15 до 22 лет. Все данные попадают в этот промежуток. Данные об ученике, которому 22 года можно посчитать выбросом, но я оставлю их в анализе, так как это не противоречит цели исследования."
   ]
  },
  {
   "cell_type": "code",
   "execution_count": 91,
   "metadata": {},
   "outputs": [
    {
     "name": "stdout",
     "output_type": "stream",
     "text": [
      "25-й перцентиль: 16.0, 75-й перцентиль: 18.0, IQR: 2.0,  Границы выбросов: [13.0, 21.0].\n"
     ]
    },
    {
     "data": {
      "text/plain": [
       "<matplotlib.axes._subplots.AxesSubplot at 0x1d89b144cd0>"
      ]
     },
     "execution_count": 91,
     "metadata": {},
     "output_type": "execute_result"
    },
    {
     "data": {
      "image/png": "[encoded data removed]",
      "text/plain": [
       "<Figure size 432x288 with 1 Axes>"
      ]
     },
     "metadata": {
      "needs_background": "light"
     },
     "output_type": "display_data"
    }
   ],
   "source": [
    "IQR = study2.age.quantile(0.75) - study2.age.quantile(0.25)\n",
    "perc25 = study2.age.quantile(0.25)\n",
    "perc75 = study2.age.quantile(0.75)\n",
    " \n",
    "print(\n",
    "'25-й перцентиль: {},'.format(perc25),\n",
    "'75-й перцентиль: {},'.format(perc75),\n",
    "\"IQR: {}, \".format(IQR),\n",
    "\"Границы выбросов: [{f}, {l}].\".format(f=perc25 - 1.5*IQR, l=perc75 + 1.5*IQR))\n",
    " \n",
    "study2.age.hist(bins = 16, range = (14, 22), label = 'IQR')"
   ]
  },
  {
   "cell_type": "code",
   "execution_count": null,
   "metadata": {},
   "outputs": [],
   "source": []
  },
  {
   "cell_type": "code",
   "execution_count": 92,
   "metadata": {},
   "outputs": [
    {
     "name": "stdout",
     "output_type": "stream",
     "text": [
      "25-й перцентиль: 0.0, 75-й перцентиль: 8.0, IQR: 8.0,  Границы выбросов: [-12.0, 20.0].\n"
     ]
    },
    {
     "data": {
      "text/plain": [
       "<matplotlib.axes._subplots.AxesSubplot at 0x1d89b237430>"
      ]
     },
     "execution_count": 92,
     "metadata": {},
     "output_type": "execute_result"
    },
    {
     "data": {
      "image/png": "[encoded data removed]",
      "text/plain": [
       "<Figure size 432x288 with 1 Axes>"
      ]
     },
     "metadata": {
      "needs_background": "light"
     },
     "output_type": "display_data"
    }
   ],
   "source": [
    "IQR = study2.absences.quantile(0.75) - study2.absences.quantile(0.25)\n",
    "perc25 = study2.absences.quantile(0.25)\n",
    "perc75 = study2.absences.quantile(0.75)\n",
    " \n",
    "print(\n",
    "'25-й перцентиль: {},'.format(perc25),\n",
    "'75-й перцентиль: {},'.format(perc75),\n",
    "\"IQR: {}, \".format(IQR),\n",
    "\"Границы выбросов: [{f}, {l}].\".format(f=perc25 - 1.5*IQR, l=perc75 + 1.5*IQR))\n",
    " \n",
    "study2.absences.hist(bins = 100)"
   ]
  },
  {
   "cell_type": "markdown",
   "metadata": {},
   "source": [
    "Мне кажется, для анализа было бы интересно посмотрть далее, как зависит балл итогового теста от колличества пропущенных занятий. Поэтому, уберем из анализа только два самых выбивающихся значения (385 и 212)."
   ]
  },
  {
   "cell_type": "code",
   "execution_count": 93,
   "metadata": {},
   "outputs": [],
   "source": [
    "study3 = study2.loc[study2['absences'] != 385]             \n"
   ]
  },
  {
   "cell_type": "code",
   "execution_count": 94,
   "metadata": {},
   "outputs": [
    {
     "name": "stdout",
     "output_type": "stream",
     "text": [
      "<class 'pandas.core.frame.DataFrame'>\n",
      "Int64Index: 388 entries, 0 to 394\n",
      "Data columns (total 29 columns):\n",
      " #   Column      Non-Null Count  Dtype  \n",
      "---  ------      --------------  -----  \n",
      " 0   school      388 non-null    object \n",
      " 1   sex         388 non-null    object \n",
      " 2   age         388 non-null    int64  \n",
      " 3   address     388 non-null    object \n",
      " 4   famsize     388 non-null    object \n",
      " 5   Pstatus     388 non-null    object \n",
      " 6   Medu        388 non-null    float64\n",
      " 7   Fedu        388 non-null    float64\n",
      " 8   Mjob        388 non-null    object \n",
      " 9   Fjob        388 non-null    object \n",
      " 10  reason      388 non-null    object \n",
      " 11  guardian    388 non-null    object \n",
      " 12  traveltime  388 non-null    float64\n",
      " 13  studytime   388 non-null    float64\n",
      " 14  failures    388 non-null    float64\n",
      " 15  schoolsup   388 non-null    object \n",
      " 16  famsup      388 non-null    object \n",
      " 17  paid        388 non-null    object \n",
      " 18  activities  388 non-null    object \n",
      " 19  nursery     388 non-null    object \n",
      " 20  higher      388 non-null    object \n",
      " 21  internet    388 non-null    object \n",
      " 22  romantic    388 non-null    object \n",
      " 23  famrel      388 non-null    float64\n",
      " 24  freetime    388 non-null    float64\n",
      " 25  goout       388 non-null    float64\n",
      " 26  health      388 non-null    float64\n",
      " 27  absences    388 non-null    float64\n",
      " 28  score       388 non-null    float64\n",
      "dtypes: float64(11), int64(1), object(17)\n",
      "memory usage: 90.9+ KB\n"
     ]
    }
   ],
   "source": [
    "study3.info()"
   ]
  },
  {
   "cell_type": "code",
   "execution_count": 95,
   "metadata": {},
   "outputs": [
    {
     "name": "stdout",
     "output_type": "stream",
     "text": [
      "<class 'pandas.core.frame.DataFrame'>\n",
      "Int64Index: 387 entries, 0 to 394\n",
      "Data columns (total 29 columns):\n",
      " #   Column      Non-Null Count  Dtype  \n",
      "---  ------      --------------  -----  \n",
      " 0   school      387 non-null    object \n",
      " 1   sex         387 non-null    object \n",
      " 2   age         387 non-null    int64  \n",
      " 3   address     387 non-null    object \n",
      " 4   famsize     387 non-null    object \n",
      " 5   Pstatus     387 non-null    object \n",
      " 6   Medu        387 non-null    float64\n",
      " 7   Fedu        387 non-null    float64\n",
      " 8   Mjob        387 non-null    object \n",
      " 9   Fjob        387 non-null    object \n",
      " 10  reason      387 non-null    object \n",
      " 11  guardian    387 non-null    object \n",
      " 12  traveltime  387 non-null    float64\n",
      " 13  studytime   387 non-null    float64\n",
      " 14  failures    387 non-null    float64\n",
      " 15  schoolsup   387 non-null    object \n",
      " 16  famsup      387 non-null    object \n",
      " 17  paid        387 non-null    object \n",
      " 18  activities  387 non-null    object \n",
      " 19  nursery     387 non-null    object \n",
      " 20  higher      387 non-null    object \n",
      " 21  internet    387 non-null    object \n",
      " 22  romantic    387 non-null    object \n",
      " 23  famrel      387 non-null    float64\n",
      " 24  freetime    387 non-null    float64\n",
      " 25  goout       387 non-null    float64\n",
      " 26  health      387 non-null    float64\n",
      " 27  absences    387 non-null    float64\n",
      " 28  score       387 non-null    float64\n",
      "dtypes: float64(11), int64(1), object(17)\n",
      "memory usage: 90.7+ KB\n"
     ]
    }
   ],
   "source": [
    "study4= study3.loc[study3['absences'] != 212]\n",
    "study4.info()"
   ]
  },
  {
   "cell_type": "code",
   "execution_count": null,
   "metadata": {},
   "outputs": [],
   "source": []
  },
  {
   "cell_type": "code",
   "execution_count": 96,
   "metadata": {},
   "outputs": [
    {
     "data": {
      "text/html": [
       "<div>\n",
       "<style scoped>\n",
       "    .dataframe tbody tr th:only-of-type {\n",
       "        vertical-align: middle;\n",
       "    }\n",
       "\n",
       "    .dataframe tbody tr th {\n",
       "        vertical-align: top;\n",
       "    }\n",
       "\n",
       "    .dataframe thead th {\n",
       "        text-align: right;\n",
       "    }\n",
       "</style>\n",
       "<table border=\"1\" class=\"dataframe\">\n",
       "  <thead>\n",
       "    <tr style=\"text-align: right;\">\n",
       "      <th></th>\n",
       "      <th>age</th>\n",
       "      <th>Medu</th>\n",
       "      <th>Fedu</th>\n",
       "      <th>traveltime</th>\n",
       "      <th>studytime</th>\n",
       "      <th>failures</th>\n",
       "      <th>famrel</th>\n",
       "      <th>freetime</th>\n",
       "      <th>goout</th>\n",
       "      <th>health</th>\n",
       "      <th>absences</th>\n",
       "      <th>score</th>\n",
       "    </tr>\n",
       "  </thead>\n",
       "  <tbody>\n",
       "    <tr>\n",
       "      <th>age</th>\n",
       "      <td>1.000000</td>\n",
       "      <td>-0.143429</td>\n",
       "      <td>-0.157639</td>\n",
       "      <td>0.079312</td>\n",
       "      <td>-0.017954</td>\n",
       "      <td>0.192816</td>\n",
       "      <td>0.060532</td>\n",
       "      <td>-0.002082</td>\n",
       "      <td>0.113979</td>\n",
       "      <td>-0.074283</td>\n",
       "      <td>0.169789</td>\n",
       "      <td>-0.153488</td>\n",
       "    </tr>\n",
       "    <tr>\n",
       "      <th>Medu</th>\n",
       "      <td>-0.143429</td>\n",
       "      <td>1.000000</td>\n",
       "      <td>0.602576</td>\n",
       "      <td>-0.148840</td>\n",
       "      <td>0.075977</td>\n",
       "      <td>-0.236824</td>\n",
       "      <td>0.003336</td>\n",
       "      <td>0.056783</td>\n",
       "      <td>0.070727</td>\n",
       "      <td>-0.028665</td>\n",
       "      <td>0.093706</td>\n",
       "      <td>0.203759</td>\n",
       "    </tr>\n",
       "    <tr>\n",
       "      <th>Fedu</th>\n",
       "      <td>-0.157639</td>\n",
       "      <td>0.602576</td>\n",
       "      <td>1.000000</td>\n",
       "      <td>-0.115820</td>\n",
       "      <td>-0.006750</td>\n",
       "      <td>-0.256619</td>\n",
       "      <td>0.013212</td>\n",
       "      <td>-0.004096</td>\n",
       "      <td>0.035019</td>\n",
       "      <td>0.066164</td>\n",
       "      <td>0.041345</td>\n",
       "      <td>0.126276</td>\n",
       "    </tr>\n",
       "    <tr>\n",
       "      <th>traveltime</th>\n",
       "      <td>0.079312</td>\n",
       "      <td>-0.148840</td>\n",
       "      <td>-0.115820</td>\n",
       "      <td>1.000000</td>\n",
       "      <td>-0.093944</td>\n",
       "      <td>0.043061</td>\n",
       "      <td>-0.018901</td>\n",
       "      <td>-0.017309</td>\n",
       "      <td>0.046254</td>\n",
       "      <td>-0.028166</td>\n",
       "      <td>-0.002124</td>\n",
       "      <td>-0.060923</td>\n",
       "    </tr>\n",
       "    <tr>\n",
       "      <th>studytime</th>\n",
       "      <td>-0.017954</td>\n",
       "      <td>0.075977</td>\n",
       "      <td>-0.006750</td>\n",
       "      <td>-0.093944</td>\n",
       "      <td>1.000000</td>\n",
       "      <td>-0.170471</td>\n",
       "      <td>0.050173</td>\n",
       "      <td>-0.111741</td>\n",
       "      <td>-0.050547</td>\n",
       "      <td>-0.056674</td>\n",
       "      <td>-0.064100</td>\n",
       "      <td>0.114737</td>\n",
       "    </tr>\n",
       "    <tr>\n",
       "      <th>failures</th>\n",
       "      <td>0.192816</td>\n",
       "      <td>-0.236824</td>\n",
       "      <td>-0.256619</td>\n",
       "      <td>0.043061</td>\n",
       "      <td>-0.170471</td>\n",
       "      <td>1.000000</td>\n",
       "      <td>-0.048162</td>\n",
       "      <td>0.071271</td>\n",
       "      <td>0.098144</td>\n",
       "      <td>0.068549</td>\n",
       "      <td>0.061911</td>\n",
       "      <td>-0.337138</td>\n",
       "    </tr>\n",
       "    <tr>\n",
       "      <th>famrel</th>\n",
       "      <td>0.060532</td>\n",
       "      <td>0.003336</td>\n",
       "      <td>0.013212</td>\n",
       "      <td>-0.018901</td>\n",
       "      <td>0.050173</td>\n",
       "      <td>-0.048162</td>\n",
       "      <td>1.000000</td>\n",
       "      <td>0.156385</td>\n",
       "      <td>0.055971</td>\n",
       "      <td>0.091018</td>\n",
       "      <td>-0.042048</td>\n",
       "      <td>0.065239</td>\n",
       "    </tr>\n",
       "    <tr>\n",
       "      <th>freetime</th>\n",
       "      <td>-0.002082</td>\n",
       "      <td>0.056783</td>\n",
       "      <td>-0.004096</td>\n",
       "      <td>-0.017309</td>\n",
       "      <td>-0.111741</td>\n",
       "      <td>0.071271</td>\n",
       "      <td>0.156385</td>\n",
       "      <td>1.000000</td>\n",
       "      <td>0.286850</td>\n",
       "      <td>0.055849</td>\n",
       "      <td>-0.082680</td>\n",
       "      <td>0.027086</td>\n",
       "    </tr>\n",
       "    <tr>\n",
       "      <th>goout</th>\n",
       "      <td>0.113979</td>\n",
       "      <td>0.070727</td>\n",
       "      <td>0.035019</td>\n",
       "      <td>0.046254</td>\n",
       "      <td>-0.050547</td>\n",
       "      <td>0.098144</td>\n",
       "      <td>0.055971</td>\n",
       "      <td>0.286850</td>\n",
       "      <td>1.000000</td>\n",
       "      <td>-0.017397</td>\n",
       "      <td>0.027043</td>\n",
       "      <td>-0.133697</td>\n",
       "    </tr>\n",
       "    <tr>\n",
       "      <th>health</th>\n",
       "      <td>-0.074283</td>\n",
       "      <td>-0.028665</td>\n",
       "      <td>0.066164</td>\n",
       "      <td>-0.028166</td>\n",
       "      <td>-0.056674</td>\n",
       "      <td>0.068549</td>\n",
       "      <td>0.091018</td>\n",
       "      <td>0.055849</td>\n",
       "      <td>-0.017397</td>\n",
       "      <td>1.000000</td>\n",
       "      <td>-0.025465</td>\n",
       "      <td>-0.064587</td>\n",
       "    </tr>\n",
       "    <tr>\n",
       "      <th>absences</th>\n",
       "      <td>0.169789</td>\n",
       "      <td>0.093706</td>\n",
       "      <td>0.041345</td>\n",
       "      <td>-0.002124</td>\n",
       "      <td>-0.064100</td>\n",
       "      <td>0.061911</td>\n",
       "      <td>-0.042048</td>\n",
       "      <td>-0.082680</td>\n",
       "      <td>0.027043</td>\n",
       "      <td>-0.025465</td>\n",
       "      <td>1.000000</td>\n",
       "      <td>0.028919</td>\n",
       "    </tr>\n",
       "    <tr>\n",
       "      <th>score</th>\n",
       "      <td>-0.153488</td>\n",
       "      <td>0.203759</td>\n",
       "      <td>0.126276</td>\n",
       "      <td>-0.060923</td>\n",
       "      <td>0.114737</td>\n",
       "      <td>-0.337138</td>\n",
       "      <td>0.065239</td>\n",
       "      <td>0.027086</td>\n",
       "      <td>-0.133697</td>\n",
       "      <td>-0.064587</td>\n",
       "      <td>0.028919</td>\n",
       "      <td>1.000000</td>\n",
       "    </tr>\n",
       "  </tbody>\n",
       "</table>\n",
       "</div>"
      ],
      "text/plain": [
       "                 age      Medu      Fedu  traveltime  studytime  failures  \\\n",
       "age         1.000000 -0.143429 -0.157639    0.079312  -0.017954  0.192816   \n",
       "Medu       -0.143429  1.000000  0.602576   -0.148840   0.075977 -0.236824   \n",
       "Fedu       -0.157639  0.602576  1.000000   -0.115820  -0.006750 -0.256619   \n",
       "traveltime  0.079312 -0.148840 -0.115820    1.000000  -0.093944  0.043061   \n",
       "studytime  -0.017954  0.075977 -0.006750   -0.093944   1.000000 -0.170471   \n",
       "failures    0.192816 -0.236824 -0.256619    0.043061  -0.170471  1.000000   \n",
       "famrel      0.060532  0.003336  0.013212   -0.018901   0.050173 -0.048162   \n",
       "freetime   -0.002082  0.056783 -0.004096   -0.017309  -0.111741  0.071271   \n",
       "goout       0.113979  0.070727  0.035019    0.046254  -0.050547  0.098144   \n",
       "health     -0.074283 -0.028665  0.066164   -0.028166  -0.056674  0.068549   \n",
       "absences    0.169789  0.093706  0.041345   -0.002124  -0.064100  0.061911   \n",
       "score      -0.153488  0.203759  0.126276   -0.060923   0.114737 -0.337138   \n",
       "\n",
       "              famrel  freetime     goout    health  absences     score  \n",
       "age         0.060532 -0.002082  0.113979 -0.074283  0.169789 -0.153488  \n",
       "Medu        0.003336  0.056783  0.070727 -0.028665  0.093706  0.203759  \n",
       "Fedu        0.013212 -0.004096  0.035019  0.066164  0.041345  0.126276  \n",
       "traveltime -0.018901 -0.017309  0.046254 -0.028166 -0.002124 -0.060923  \n",
       "studytime   0.050173 -0.111741 -0.050547 -0.056674 -0.064100  0.114737  \n",
       "failures   -0.048162  0.071271  0.098144  0.068549  0.061911 -0.337138  \n",
       "famrel      1.000000  0.156385  0.055971  0.091018 -0.042048  0.065239  \n",
       "freetime    0.156385  1.000000  0.286850  0.055849 -0.082680  0.027086  \n",
       "goout       0.055971  0.286850  1.000000 -0.017397  0.027043 -0.133697  \n",
       "health      0.091018  0.055849 -0.017397  1.000000 -0.025465 -0.064587  \n",
       "absences   -0.042048 -0.082680  0.027043 -0.025465  1.000000  0.028919  \n",
       "score       0.065239  0.027086 -0.133697 -0.064587  0.028919  1.000000  "
      ]
     },
     "execution_count": 96,
     "metadata": {},
     "output_type": "execute_result"
    }
   ],
   "source": [
    "study4.corr()"
   ]
  },
  {
   "cell_type": "code",
   "execution_count": 97,
   "metadata": {},
   "outputs": [
    {
     "data": {
      "text/plain": [
       "<matplotlib.axes._subplots.AxesSubplot at 0x1d89b3ff8b0>"
      ]
     },
     "execution_count": 97,
     "metadata": {},
     "output_type": "execute_result"
    },
    {
     "data": {
      "image/png": "[encoded data removed]",
      "text/plain": [
       "<Figure size 432x288 with 2 Axes>"
      ]
     },
     "metadata": {
      "needs_background": "light"
     },
     "output_type": "display_data"
    }
   ],
   "source": [
    "sns.heatmap(study4.corr(),vmin=0, vmax=1)"
   ]
  },
  {
   "cell_type": "markdown",
   "metadata": {},
   "source": [
    "Наиболее сильно коррелируют между собой образование отца и матери, что естстественно, для людей, образующих семью. Но влиять на оценки детей могут по-разному, оставим оба столбика. Так же коррелируют количество свободного времени и время, проводимое с друзьями. Оставим один столбец со свободным временем."
   ]
  },
  {
   "cell_type": "markdown",
   "metadata": {},
   "source": [
    "Есть обратная корреляция между оценками и количеством внеучебных неудач - чем успешнее ученик, тем выше оценки."
   ]
  },
  {
   "cell_type": "code",
   "execution_count": 98,
   "metadata": {},
   "outputs": [],
   "source": [
    "def get_boxplot(column):\n",
    "    fig, ax = plt.subplots(figsize = (14, 4))\n",
    "    sns.boxplot(x=column, y='score', \n",
    "                data=study4.loc[study4.loc[:, column].isin(study4.loc[:, column])],\n",
    "               ax=ax)\n",
    "    plt.xticks(rotation=45)\n",
    "    ax.set_title('Boxplot for ' + column)\n",
    "    plt.show()"
   ]
  },
  {
   "cell_type": "code",
   "execution_count": 99,
   "metadata": {},
   "outputs": [
    {
     "data": {
      "image/png": "[encoded data removed]",
      "text/plain": [
       "<Figure size 1008x288 with 1 Axes>"
      ]
     },
     "metadata": {
      "needs_background": "light"
     },
     "output_type": "display_data"
    },
    {
     "data": {
      "image/png": "[encoded data removed]",
      "text/plain": [
       "<Figure size 1008x288 with 1 Axes>"
      ]
     },
     "metadata": {
      "needs_background": "light"
     },
     "output_type": "display_data"
    },
    {
     "data": {
      "image/png": "[encoded data removed]",
      "text/plain": [
       "<Figure size 1008x288 with 1 Axes>"
      ]
     },
     "metadata": {
      "needs_background": "light"
     },
     "output_type": "display_data"
    },
    {
     "data": {
      "image/png": "[encoded data removed]",
      "text/plain": [
       "<Figure size 1008x288 with 1 Axes>"
      ]
     },
     "metadata": {
      "needs_background": "light"
     },
     "output_type": "display_data"
    },
    {
     "data": {
      "image/png": "[encoded data removed]",
      "text/plain": [
       "<Figure size 1008x288 with 1 Axes>"
      ]
     },
     "metadata": {
      "needs_background": "light"
     },
     "output_type": "display_data"
    },
    {
     "data": {
      "image/png": "[encoded data removed]",
      "text/plain": [
       "<Figure size 1008x288 with 1 Axes>"
      ]
     },
     "metadata": {
      "needs_background": "light"
     },
     "output_type": "display_data"
    },
    {
     "data": {
      "image/png": "[encoded data removed]",
      "text/plain": [
       "<Figure size 1008x288 with 1 Axes>"
      ]
     },
     "metadata": {
      "needs_background": "light"
     },
     "output_type": "display_data"
    },
    {
     "data": {
      "image/png": "[encoded data removed]",
      "text/plain": [
       "<Figure size 1008x288 with 1 Axes>"
      ]
     },
     "metadata": {
      "needs_background": "light"
     },
     "output_type": "display_data"
    },
    {
     "data": {
      "image/png": "[encoded data removed]",
      "text/plain": [
       "<Figure size 1008x288 with 1 Axes>"
      ]
     },
     "metadata": {
      "needs_background": "light"
     },
     "output_type": "display_data"
    },
    {
     "data": {
      "image/png": "[encoded data removed]",
      "text/plain": [
       "<Figure size 1008x288 with 1 Axes>"
      ]
     },
     "metadata": {
      "needs_background": "light"
     },
     "output_type": "display_data"
    },
    {
     "data": {
      "image/png": "[encoded data removed]",
      "text/plain": [
       "<Figure size 1008x288 with 1 Axes>"
      ]
     },
     "metadata": {
      "needs_background": "light"
     },
     "output_type": "display_data"
    },
    {
     "data": {
      "image/png": "[encoded data removed]",
      "text/plain": [
       "<Figure size 1008x288 with 1 Axes>"
      ]
     },
     "metadata": {
      "needs_background": "light"
     },
     "output_type": "display_data"
    },
    {
     "data": {
      "image/png": "[encoded data removed]",
      "text/plain": [
       "<Figure size 1008x288 with 1 Axes>"
      ]
     },
     "metadata": {
      "needs_background": "light"
     },
     "output_type": "display_data"
    },
    {
     "data": {
      "image/png": "[encoded data removed]",
      "text/plain": [
       "<Figure size 1008x288 with 1 Axes>"
      ]
     },
     "metadata": {
      "needs_background": "light"
     },
     "output_type": "display_data"
    },
    {
     "data": {
      "image/png": "[encoded data removed]",
      "text/plain": [
       "<Figure size 1008x288 with 1 Axes>"
      ]
     },
     "metadata": {
      "needs_background": "light"
     },
     "output_type": "display_data"
    },
    {
     "data": {
      "image/png": "[encoded data removed]",
      "text/plain": [
       "<Figure size 1008x288 with 1 Axes>"
      ]
     },
     "metadata": {
      "needs_background": "light"
     },
     "output_type": "display_data"
    },
    {
     "data": {
      "image/png": "[encoded data removed]",
      "text/plain": [
       "<Figure size 1008x288 with 1 Axes>"
      ]
     },
     "metadata": {
      "needs_background": "light"
     },
     "output_type": "display_data"
    }
   ],
   "source": [
    "for col in ['school', 'sex', 'address', 'famsize', 'Pstatus', 'Mjob', 'Fjob', 'reason', 'guardian', 'schoolsup', 'famsup', 'paid', 'activities', 'nursery', 'higher', 'internet', 'romantic' ]:\n",
    "    get_boxplot(col)"
   ]
  },
  {
   "cell_type": "code",
   "execution_count": null,
   "metadata": {},
   "outputs": [],
   "source": []
  },
  {
   "cell_type": "markdown",
   "metadata": {},
   "source": [
    "Сравнивая боксплоты, можно сказать, что значимыми признаками для \"score\" являются столбцы: 'school', 'sex', 'address', 'Mjob',  'schoolsup', 'paid', 'activities', 'higher', 'internet', 'romantic'. "
   ]
  },
  {
   "cell_type": "markdown",
   "metadata": {},
   "source": [
    "Проверим, есть ли статистическая разница в распределении оценок по номинативным признакам, с помощью теста Стьюдента."
   ]
  },
  {
   "cell_type": "code",
   "execution_count": 100,
   "metadata": {},
   "outputs": [],
   "source": [
    "def get_stat_dif(column):\n",
    "    cols = study4.loc[:, column].value_counts().index[:10]\n",
    "    combinations_all = list(combinations(cols, 2))\n",
    "    for comb in combinations_all:\n",
    "        if ttest_ind(study4.loc[study4.loc[:, column] == comb[0], 'score'], \n",
    "                        study4.loc[study4.loc[:, column] == comb[1], 'score']).pvalue \\\n",
    "            <= 0.05/len(combinations_all): # Учли поправку Бонферони\n",
    "            print('Найдены статистически значимые различия для колонки', column)\n",
    "            break"
   ]
  },
  {
   "cell_type": "code",
   "execution_count": 101,
   "metadata": {},
   "outputs": [
    {
     "name": "stdout",
     "output_type": "stream",
     "text": [
      "Найдены статистически значимые различия для колонки sex\n",
      "Найдены статистически значимые различия для колонки Mjob\n",
      "Найдены статистически значимые различия для колонки schoolsup\n",
      "Найдены статистически значимые различия для колонки paid\n",
      "Найдены статистически значимые различия для колонки higher\n",
      "Найдены статистически значимые различия для колонки romantic\n"
     ]
    }
   ],
   "source": [
    "for col in ['school', 'sex', 'address', 'famsize', 'Pstatus', 'Mjob', 'Fjob', 'reason', 'guardian', 'schoolsup', 'famsup', 'paid', 'activities', 'nursery', 'higher', 'internet', 'romantic']:\n",
    "    get_stat_dif(col)"
   ]
  },
  {
   "cell_type": "markdown",
   "metadata": {},
   "source": [
    "Эти шесть столбцов однозначно оставляем для анализа.  Столбец 'activities' - как ни странно,оценки выше  у тех, кто посещает дополнительные внеучебные занятия, хотя на учебу остается меньше времени. Я бы оставила этот критерий для более детального анализа. Столбец 'address' тоже достаточно предсказуем, оценки выше у тех, кто живет в городе. В номинативных переменных есть столбец с затратами на дорогу, оставим его, а 'address' удалим. "
   ]
  },
  {
   "cell_type": "code",
   "execution_count": 102,
   "metadata": {},
   "outputs": [],
   "source": [
    "study5 = study4.drop(['goout','internet', 'school','famsize', 'Pstatus', 'Fjob', 'reason', 'guardian', 'famsup', 'nursery','address'], axis=1)"
   ]
  },
  {
   "cell_type": "code",
   "execution_count": 103,
   "metadata": {},
   "outputs": [
    {
     "data": {
      "text/html": [
       "<div>\n",
       "<style scoped>\n",
       "    .dataframe tbody tr th:only-of-type {\n",
       "        vertical-align: middle;\n",
       "    }\n",
       "\n",
       "    .dataframe tbody tr th {\n",
       "        vertical-align: top;\n",
       "    }\n",
       "\n",
       "    .dataframe thead th {\n",
       "        text-align: right;\n",
       "    }\n",
       "</style>\n",
       "<table border=\"1\" class=\"dataframe\">\n",
       "  <thead>\n",
       "    <tr style=\"text-align: right;\">\n",
       "      <th></th>\n",
       "      <th>sex</th>\n",
       "      <th>age</th>\n",
       "      <th>Medu</th>\n",
       "      <th>Fedu</th>\n",
       "      <th>Mjob</th>\n",
       "      <th>traveltime</th>\n",
       "      <th>studytime</th>\n",
       "      <th>failures</th>\n",
       "      <th>schoolsup</th>\n",
       "      <th>paid</th>\n",
       "      <th>activities</th>\n",
       "      <th>higher</th>\n",
       "      <th>romantic</th>\n",
       "      <th>famrel</th>\n",
       "      <th>freetime</th>\n",
       "      <th>health</th>\n",
       "      <th>absences</th>\n",
       "      <th>score</th>\n",
       "    </tr>\n",
       "  </thead>\n",
       "  <tbody>\n",
       "    <tr>\n",
       "      <th>0</th>\n",
       "      <td>F</td>\n",
       "      <td>18</td>\n",
       "      <td>4.0</td>\n",
       "      <td>4.0</td>\n",
       "      <td>at_home</td>\n",
       "      <td>2.0</td>\n",
       "      <td>2.0</td>\n",
       "      <td>0.0</td>\n",
       "      <td>yes</td>\n",
       "      <td>no</td>\n",
       "      <td>no</td>\n",
       "      <td>yes</td>\n",
       "      <td>no</td>\n",
       "      <td>4.0</td>\n",
       "      <td>3.0</td>\n",
       "      <td>3.0</td>\n",
       "      <td>6.0</td>\n",
       "      <td>30.0</td>\n",
       "    </tr>\n",
       "    <tr>\n",
       "      <th>1</th>\n",
       "      <td>F</td>\n",
       "      <td>17</td>\n",
       "      <td>1.0</td>\n",
       "      <td>1.0</td>\n",
       "      <td>at_home</td>\n",
       "      <td>1.0</td>\n",
       "      <td>2.0</td>\n",
       "      <td>0.0</td>\n",
       "      <td>no</td>\n",
       "      <td>no</td>\n",
       "      <td>no</td>\n",
       "      <td>yes</td>\n",
       "      <td>no</td>\n",
       "      <td>5.0</td>\n",
       "      <td>3.0</td>\n",
       "      <td>3.0</td>\n",
       "      <td>4.0</td>\n",
       "      <td>30.0</td>\n",
       "    </tr>\n",
       "    <tr>\n",
       "      <th>2</th>\n",
       "      <td>F</td>\n",
       "      <td>15</td>\n",
       "      <td>1.0</td>\n",
       "      <td>1.0</td>\n",
       "      <td>at_home</td>\n",
       "      <td>1.0</td>\n",
       "      <td>2.0</td>\n",
       "      <td>3.0</td>\n",
       "      <td>yes</td>\n",
       "      <td>no</td>\n",
       "      <td>no</td>\n",
       "      <td>yes</td>\n",
       "      <td>no</td>\n",
       "      <td>4.0</td>\n",
       "      <td>3.0</td>\n",
       "      <td>3.0</td>\n",
       "      <td>10.0</td>\n",
       "      <td>50.0</td>\n",
       "    </tr>\n",
       "    <tr>\n",
       "      <th>3</th>\n",
       "      <td>F</td>\n",
       "      <td>15</td>\n",
       "      <td>4.0</td>\n",
       "      <td>2.0</td>\n",
       "      <td>health</td>\n",
       "      <td>1.0</td>\n",
       "      <td>3.0</td>\n",
       "      <td>0.0</td>\n",
       "      <td>no</td>\n",
       "      <td>yes</td>\n",
       "      <td>yes</td>\n",
       "      <td>yes</td>\n",
       "      <td>yes</td>\n",
       "      <td>3.0</td>\n",
       "      <td>2.0</td>\n",
       "      <td>5.0</td>\n",
       "      <td>2.0</td>\n",
       "      <td>75.0</td>\n",
       "    </tr>\n",
       "    <tr>\n",
       "      <th>4</th>\n",
       "      <td>F</td>\n",
       "      <td>16</td>\n",
       "      <td>3.0</td>\n",
       "      <td>3.0</td>\n",
       "      <td>other</td>\n",
       "      <td>1.0</td>\n",
       "      <td>2.0</td>\n",
       "      <td>0.0</td>\n",
       "      <td>no</td>\n",
       "      <td>yes</td>\n",
       "      <td>no</td>\n",
       "      <td>yes</td>\n",
       "      <td>no</td>\n",
       "      <td>4.0</td>\n",
       "      <td>3.0</td>\n",
       "      <td>5.0</td>\n",
       "      <td>4.0</td>\n",
       "      <td>50.0</td>\n",
       "    </tr>\n",
       "    <tr>\n",
       "      <th>5</th>\n",
       "      <td>M</td>\n",
       "      <td>16</td>\n",
       "      <td>4.0</td>\n",
       "      <td>3.0</td>\n",
       "      <td>services</td>\n",
       "      <td>1.0</td>\n",
       "      <td>2.0</td>\n",
       "      <td>0.0</td>\n",
       "      <td>no</td>\n",
       "      <td>yes</td>\n",
       "      <td>yes</td>\n",
       "      <td>yes</td>\n",
       "      <td>no</td>\n",
       "      <td>5.0</td>\n",
       "      <td>4.0</td>\n",
       "      <td>5.0</td>\n",
       "      <td>10.0</td>\n",
       "      <td>75.0</td>\n",
       "    </tr>\n",
       "    <tr>\n",
       "      <th>6</th>\n",
       "      <td>M</td>\n",
       "      <td>16</td>\n",
       "      <td>2.0</td>\n",
       "      <td>2.0</td>\n",
       "      <td>other</td>\n",
       "      <td>1.0</td>\n",
       "      <td>2.0</td>\n",
       "      <td>0.0</td>\n",
       "      <td>no</td>\n",
       "      <td>no</td>\n",
       "      <td>no</td>\n",
       "      <td>yes</td>\n",
       "      <td>no</td>\n",
       "      <td>4.0</td>\n",
       "      <td>4.0</td>\n",
       "      <td>3.0</td>\n",
       "      <td>0.0</td>\n",
       "      <td>55.0</td>\n",
       "    </tr>\n",
       "    <tr>\n",
       "      <th>7</th>\n",
       "      <td>F</td>\n",
       "      <td>17</td>\n",
       "      <td>4.0</td>\n",
       "      <td>4.0</td>\n",
       "      <td>other</td>\n",
       "      <td>2.0</td>\n",
       "      <td>2.0</td>\n",
       "      <td>0.0</td>\n",
       "      <td>yes</td>\n",
       "      <td>no</td>\n",
       "      <td>no</td>\n",
       "      <td>yes</td>\n",
       "      <td>no</td>\n",
       "      <td>4.0</td>\n",
       "      <td>1.0</td>\n",
       "      <td>1.0</td>\n",
       "      <td>6.0</td>\n",
       "      <td>30.0</td>\n",
       "    </tr>\n",
       "    <tr>\n",
       "      <th>8</th>\n",
       "      <td>M</td>\n",
       "      <td>15</td>\n",
       "      <td>3.0</td>\n",
       "      <td>2.0</td>\n",
       "      <td>services</td>\n",
       "      <td>1.0</td>\n",
       "      <td>2.0</td>\n",
       "      <td>0.0</td>\n",
       "      <td>no</td>\n",
       "      <td>yes</td>\n",
       "      <td>no</td>\n",
       "      <td>yes</td>\n",
       "      <td>no</td>\n",
       "      <td>4.0</td>\n",
       "      <td>2.0</td>\n",
       "      <td>1.0</td>\n",
       "      <td>0.0</td>\n",
       "      <td>95.0</td>\n",
       "    </tr>\n",
       "    <tr>\n",
       "      <th>9</th>\n",
       "      <td>M</td>\n",
       "      <td>15</td>\n",
       "      <td>3.0</td>\n",
       "      <td>4.0</td>\n",
       "      <td>other</td>\n",
       "      <td>1.0</td>\n",
       "      <td>2.0</td>\n",
       "      <td>0.0</td>\n",
       "      <td>no</td>\n",
       "      <td>yes</td>\n",
       "      <td>yes</td>\n",
       "      <td>yes</td>\n",
       "      <td>no</td>\n",
       "      <td>5.0</td>\n",
       "      <td>5.0</td>\n",
       "      <td>5.0</td>\n",
       "      <td>0.0</td>\n",
       "      <td>75.0</td>\n",
       "    </tr>\n",
       "  </tbody>\n",
       "</table>\n",
       "</div>"
      ],
      "text/plain": [
       "  sex  age  Medu  Fedu      Mjob  traveltime  studytime  failures schoolsup  \\\n",
       "0   F   18   4.0   4.0   at_home         2.0        2.0       0.0       yes   \n",
       "1   F   17   1.0   1.0   at_home         1.0        2.0       0.0        no   \n",
       "2   F   15   1.0   1.0   at_home         1.0        2.0       3.0       yes   \n",
       "3   F   15   4.0   2.0    health         1.0        3.0       0.0        no   \n",
       "4   F   16   3.0   3.0     other         1.0        2.0       0.0        no   \n",
       "5   M   16   4.0   3.0  services         1.0        2.0       0.0        no   \n",
       "6   M   16   2.0   2.0     other         1.0        2.0       0.0        no   \n",
       "7   F   17   4.0   4.0     other         2.0        2.0       0.0       yes   \n",
       "8   M   15   3.0   2.0  services         1.0        2.0       0.0        no   \n",
       "9   M   15   3.0   4.0     other         1.0        2.0       0.0        no   \n",
       "\n",
       "  paid activities higher romantic  famrel  freetime  health  absences  score  \n",
       "0   no         no    yes       no     4.0       3.0     3.0       6.0   30.0  \n",
       "1   no         no    yes       no     5.0       3.0     3.0       4.0   30.0  \n",
       "2   no         no    yes       no     4.0       3.0     3.0      10.0   50.0  \n",
       "3  yes        yes    yes      yes     3.0       2.0     5.0       2.0   75.0  \n",
       "4  yes         no    yes       no     4.0       3.0     5.0       4.0   50.0  \n",
       "5  yes        yes    yes       no     5.0       4.0     5.0      10.0   75.0  \n",
       "6   no         no    yes       no     4.0       4.0     3.0       0.0   55.0  \n",
       "7   no         no    yes       no     4.0       1.0     1.0       6.0   30.0  \n",
       "8  yes         no    yes       no     4.0       2.0     1.0       0.0   95.0  \n",
       "9  yes        yes    yes       no     5.0       5.0     5.0       0.0   75.0  "
      ]
     },
     "metadata": {},
     "output_type": "display_data"
    }
   ],
   "source": [
    "display(study5.head(10))"
   ]
  },
  {
   "cell_type": "markdown",
   "metadata": {},
   "source": [
    "Самые важные параметры, которые предлагается использовать в дальнейшем для построения модели - эти 18 столбцов. Все пустые значения заполнены корректно. Выбросов в данных практически не было, данные чистые. "
   ]
  },
  {
   "cell_type": "code",
   "execution_count": null,
   "metadata": {},
   "outputs": [],
   "source": []
  },
  {
   "cell_type": "code",
   "execution_count": null,
   "metadata": {},
   "outputs": [],
   "source": []
  }
 ],
 "metadata": {
  "kernelspec": {
   "display_name": "Python 3",
   "language": "python",
   "name": "python3"
  },
  "language_info": {
   "codemirror_mode": {
    "name": "ipython",
    "version": 3
   },
   "file_extension": ".py",
   "mimetype": "text/x-python",
   "name": "python",
   "nbconvert_exporter": "python",
   "pygments_lexer": "ipython3",
   "version": "3.8.3"
  }
 },
 "nbformat": 4,
 "nbformat_minor": 4
}
