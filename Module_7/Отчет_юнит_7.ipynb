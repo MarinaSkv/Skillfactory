{
 "cells": [
  {
   "cell_type": "code",
   "execution_count": null,
   "id": "98152f1c",
   "metadata": {},
   "outputs": [],
   "source": [
    "# This Python 3 environment comes with many helpful analytics libraries installed\n",
    "# It is defined by the kaggle/python Docker image: https://github.com/kaggle/docker-python\n",
    "# For example, here's several helpful packages to load\n",
    "\n",
    "import numpy as np # linear algebra\n",
    "import pandas as pd # data processing, CSV file I/O (e.g. pd.read_csv)\n",
    "\n",
    "# Input data files are available in the read-only \"../input/\" directory\n",
    "# For example, running this (by clicking run or pressing Shift+Enter) will list all files under the input directory\n",
    "# This Python 3 environment comes with many helpful analytics libraries installed\n",
    "# It is defined by the kaggle/python docker image: https://github.com/kaggle/docker-python\n",
    "# For example, here's several helpful packages to load in \n",
    "\n",
    "import numpy as np # linear algebra\n",
    "import pandas as pd # data processing, CSV file I/O (e.g. pd.read_csv)\n",
    "\n",
    "# Input data files are available in the \"../input/\" directory.\n",
    "# For example, running this (by clicking run or pressing Shift+Enter) will list all files under the input directory\n",
    "\n",
    "# Any results you write to the current directory are saved as output.\n",
    "import os\n",
    "for dirname, _, filenames in os.walk('/kaggle/input'):\n",
    "    for filename in filenames:\n",
    "        print(os.path.join(dirname, filename))\n",
    "\n",
    "# You can write up to 5GB to the current directory (/kaggle/working/) that gets preserved as output when you create a version using \"Save & Run All\" \n",
    "# You can also write temporary files to /kaggle/temp/, but they won't be saved outside of the current session"
   ]
  },
  {
   "cell_type": "code",
   "execution_count": null,
   "id": "b21c1966",
   "metadata": {},
   "outputs": [],
   "source": [
    "train = pd.read_csv('/kaggle/input/recommendationsv4/train.csv')\n",
    "test = pd.read_csv('/kaggle/input/recommendationsv4/test.csv')\n",
    "submission = pd.read_csv('/kaggle/input/recommendationsv4/sample_submission.csv')"
   ]
  },
  {
   "cell_type": "code",
   "execution_count": null,
   "id": "533f420f",
   "metadata": {},
   "outputs": [],
   "source": [
    "import scipy.sparse as sparse\n",
    "\n",
    "from lightfm import LightFM\n",
    "from lightfm.cross_validation import random_train_test_split\n",
    "from lightfm.evaluation import auc_score, precision_at_k, recall_at_k\n",
    "import sklearn\n",
    "from sklearn.model_selection import train_test_split\n",
    "\n",
    "import scipy.sparse as sparse"
   ]
  },
  {
   "cell_type": "markdown",
   "id": "16843533",
   "metadata": {},
   "source": [
    "Посмотрим для начала на тестовый и тренировочный датасеты"
   ]
  },
  {
   "cell_type": "code",
   "execution_count": null,
   "id": "d4e08fa6",
   "metadata": {},
   "outputs": [],
   "source": [
    "train.info()\n",
    "test.info()"
   ]
  },
  {
   "cell_type": "markdown",
   "id": "7d88b4f1",
   "metadata": {},
   "source": [
    "Видим, что в тренировочном датасете на три столбца больше:\n",
    "\n",
    "присутствует overall - оценка по пятибальной шкале присутствует reviewText - текст отзыва присутствует summary - краткое содержание отзыва присутствует rating - целевая переманная отсутствует Id Удалим столбцы overall, reviewText, summary из traina."
   ]
  },
  {
   "cell_type": "code",
   "execution_count": null,
   "id": "0545a390",
   "metadata": {},
   "outputs": [],
   "source": [
    "train = train.drop(['reviewText', 'summary', 'overall'], axis=1)"
   ]
  },
  {
   "cell_type": "markdown",
   "id": "98fb5af3",
   "metadata": {},
   "source": [
    "Посмотрим на столбец verified"
   ]
  },
  {
   "cell_type": "code",
   "execution_count": null,
   "id": "18c05451",
   "metadata": {},
   "outputs": [],
   "source": [
    "print(train.verified)"
   ]
  },
  {
   "cell_type": "code",
   "execution_count": null,
   "id": "130128b0",
   "metadata": {},
   "outputs": [],
   "source": [
    "print('Количество пропусков: {},'.format(train.verified.isnull().sum()))\n",
    "print('{},'.format(train.verified.describe()))"
   ]
  },
  {
   "cell_type": "markdown",
   "id": "481d8596",
   "metadata": {},
   "source": [
    "Пропусков нет. Заменим значения на 1 и 0."
   ]
  },
  {
   "cell_type": "code",
   "execution_count": null,
   "id": "61d395c4",
   "metadata": {},
   "outputs": [],
   "source": [
    "train['verified'] = np.where((train.verified == 'True'), 0, train.verified)\n",
    "train['verified'] = np.where((train.verified == 'False' ), 1, train.verified) \n",
    "print(train.verified)\n"
   ]
  },
  {
   "cell_type": "markdown",
   "id": "13f6ad27",
   "metadata": {},
   "source": [
    "Посмотрим на столбцы reviewTime и unixReviewTime"
   ]
  },
  {
   "cell_type": "code",
   "execution_count": null,
   "id": "463f0914",
   "metadata": {},
   "outputs": [],
   "source": [
    "print(train.unixReviewTime)"
   ]
  },
  {
   "cell_type": "code",
   "execution_count": null,
   "id": "b4cc744a",
   "metadata": {},
   "outputs": [],
   "source": [
    "print('Количество пропусков: {},'.format(train.unixReviewTime.isnull().sum()))\n",
    "print('{},'.format(train.unixReviewTime.describe()))"
   ]
  },
  {
   "cell_type": "code",
   "execution_count": null,
   "id": "4eecd16e",
   "metadata": {},
   "outputs": [],
   "source": [
    "print(train.reviewTime)"
   ]
  },
  {
   "cell_type": "code",
   "execution_count": null,
   "id": "66040fd8",
   "metadata": {},
   "outputs": [],
   "source": [
    "print('Количество пропусков: {},'.format(train.reviewTime.isnull().sum()))\n",
    "print('{},'.format(train.reviewTime.describe()))"
   ]
  },
  {
   "cell_type": "markdown",
   "id": "5d4bf24b",
   "metadata": {},
   "source": [
    "В обоих столбцах содержится информация о дате отзыва, но в столбце reviewTime тип данных object нам не удобен. Удалим столбец."
   ]
  },
  {
   "cell_type": "code",
   "execution_count": null,
   "id": "39b55126",
   "metadata": {},
   "outputs": [],
   "source": [
    "from datetime import datetime\n",
    "tsmin = train.unixReviewTime.min()\n",
    "ts25 = int(train.unixReviewTime.quantile(0.25))\n",
    "ts50 = int(train.unixReviewTime.quantile(0.50))\n",
    "ts75 = int(train.unixReviewTime.quantile(0.75))\n",
    "tsmax = train.unixReviewTime.max()\n",
    "print('Самый первый отзыв:', datetime.utcfromtimestamp(tsmin).strftime('%Y-%m-%d %H:%M:%S'))\n",
    "print('25 квантиль:', datetime.utcfromtimestamp(ts25).strftime('%Y-%m-%d %H:%M:%S'))\n",
    "print('50 квантиль:', datetime.utcfromtimestamp(ts50).strftime('%Y-%m-%d %H:%M:%S'))\n",
    "print('75 квантиль:', datetime.utcfromtimestamp(ts75).strftime('%Y-%m-%d %H:%M:%S'))\n",
    "print('Последний отзыв:', datetime.utcfromtimestamp(tsmax).strftime('%Y-%m-%d %H:%M:%S'))"
   ]
  },
  {
   "cell_type": "code",
   "execution_count": null,
   "id": "f44649ad",
   "metadata": {},
   "outputs": [],
   "source": [
    "# Создадим 4 категории в зависимости от даты написания\n",
    "def cat_date(x):\n",
    "    if x <= ts25: x = '1'\n",
    "    elif ts25 < x <= ts50: x = '2'\n",
    "    elif ts50 < x <= ts75: x = '3'\n",
    "    elif ts75 < x: x = '4'\n",
    "    return x      \n",
    "\n",
    "# Заменим значения в столбце на категории\n",
    "train['unixReviewTime'] = train['unixReviewTime'].apply(lambda x: cat_date(x))"
   ]
  },
  {
   "cell_type": "code",
   "execution_count": null,
   "id": "0d61be5f",
   "metadata": {},
   "outputs": [],
   "source": [
    "train['unixReviewTime'] = train['unixReviewTime'].astype(int)"
   ]
  },
  {
   "cell_type": "code",
   "execution_count": null,
   "id": "e61f1ee3",
   "metadata": {},
   "outputs": [],
   "source": [
    "train = train.drop(['reviewTime'], axis=1)"
   ]
  },
  {
   "cell_type": "markdown",
   "id": "72aac6b8",
   "metadata": {},
   "source": [
    "Посмотрим на столбец asin"
   ]
  },
  {
   "cell_type": "code",
   "execution_count": null,
   "id": "36a07f66",
   "metadata": {},
   "outputs": [],
   "source": [
    "print(train.asin)"
   ]
  },
  {
   "cell_type": "code",
   "execution_count": null,
   "id": "c92d3c52",
   "metadata": {},
   "outputs": [],
   "source": [
    "print('Количество пропусков: {},'.format(train.asin.isnull().sum()))\n",
    "print('{},'.format(train.asin.describe()))"
   ]
  },
  {
   "cell_type": "code",
   "execution_count": null,
   "id": "7ac2b360",
   "metadata": {},
   "outputs": [],
   "source": [
    "train.asin.value_counts()"
   ]
  },
  {
   "cell_type": "markdown",
   "id": "5f03a606",
   "metadata": {},
   "source": [
    "заменим в этом же столбце код asin на количество его повторений."
   ]
  },
  {
   "cell_type": "code",
   "execution_count": null,
   "id": "3c4070b7",
   "metadata": {},
   "outputs": [],
   "source": [
    "train['asin'] = train['asin'].map(train['asin'].value_counts())"
   ]
  },
  {
   "cell_type": "code",
   "execution_count": null,
   "id": "a48888e0",
   "metadata": {},
   "outputs": [],
   "source": [
    "print(train.asin)"
   ]
  },
  {
   "cell_type": "code",
   "execution_count": null,
   "id": "ec4321ec",
   "metadata": {},
   "outputs": [],
   "source": [
    "train['asin'].describe()"
   ]
  },
  {
   "cell_type": "code",
   "execution_count": null,
   "id": "d8431db0",
   "metadata": {},
   "outputs": [],
   "source": [
    "# Создадим 4 категории:\n",
    "def cat_asin(x):\n",
    "    if x <= 16: x = '1'\n",
    "    elif 16 < x <= 52: x = '2'\n",
    "    elif 52 < x <= 188: x = '3'\n",
    "    elif 188 < x: x = '4'\n",
    "    return x      \n",
    "\n",
    "# Заменим значения в столбце на категории\n",
    "train['asin'] = train['asin'].apply(lambda x: cat_asin(x))"
   ]
  },
  {
   "cell_type": "code",
   "execution_count": null,
   "id": "d92ce2f8",
   "metadata": {},
   "outputs": [],
   "source": [
    "print(train.asin)"
   ]
  },
  {
   "cell_type": "markdown",
   "id": "231032ee",
   "metadata": {},
   "source": [
    "Посмотрим на столбец reviewerName"
   ]
  },
  {
   "cell_type": "code",
   "execution_count": null,
   "id": "3fe145b9",
   "metadata": {},
   "outputs": [],
   "source": [
    "print(train.reviewerName)"
   ]
  },
  {
   "cell_type": "code",
   "execution_count": null,
   "id": "6de9c0d0",
   "metadata": {},
   "outputs": [],
   "source": [
    "print('Количество пропусков: {},'.format(train.reviewerName.isnull().sum()))\n",
    "print('{},'.format(train.reviewerName.describe())"
   ]
  },
  {
   "cell_type": "markdown",
   "id": "55b5e138",
   "metadata": {},
   "source": [
    "У нас есть столбец с похожей информацией - userid. Этот можно удалить."
   ]
  },
  {
   "cell_type": "code",
   "execution_count": null,
   "id": "27ac7f48",
   "metadata": {},
   "outputs": [],
   "source": [
    "train = train.drop(['reviewerName'], axis=1)"
   ]
  },
  {
   "cell_type": "markdown",
   "id": "6c5b81fb",
   "metadata": {},
   "source": [
    "Посмотрим на столбец vote"
   ]
  },
  {
   "cell_type": "code",
   "execution_count": null,
   "id": "f4275a40",
   "metadata": {},
   "outputs": [],
   "source": [
    "print(train.vote)"
   ]
  },
  {
   "cell_type": "code",
   "execution_count": null,
   "id": "fa1a5925",
   "metadata": {},
   "outputs": [],
   "source": [
    "print('Количество пропусков: {},'.format(train.vote.isnull().sum()))\n",
    "print('{},'.format(train.vote.describe()))"
   ]
  },
  {
   "cell_type": "code",
   "execution_count": null,
   "id": "e528e9f0",
   "metadata": {},
   "outputs": [],
   "source": [
    "train.vote.unique()"
   ]
  },
  {
   "cell_type": "code",
   "execution_count": null,
   "id": "6c7f282f",
   "metadata": {},
   "outputs": [],
   "source": [
    "# Удалим запятые\n",
    "train['vote'] = train['vote'].astype('str')\n",
    "train['vote'] = train['vote'].apply(lambda x: x.replace(',', ''))\n",
    "# Заменим пропуски на 0\n",
    "train['vote'] = train['vote'].apply(lambda x: x.replace('nan', '0'))\n",
    "train.vote = train.vote.fillna(0)\n",
    "# Приведем к int32\n",
    "train['vote'] = train['vote'].astype('float')\n",
    "train['vote'] = train['vote'].astype('int32')\n",
    "# Посмотрим на результат\n",
    "train.vote.unique()"
   ]
  },
  {
   "cell_type": "code",
   "execution_count": null,
   "id": "5f5b0f13",
   "metadata": {},
   "outputs": [],
   "source": [
    "print('Количество пропусков: {},'.format(train.vote.isnull().sum()))\n",
    "print('{},'.format(train.vote.describe()))"
   ]
  },
  {
   "cell_type": "code",
   "execution_count": null,
   "id": "29f222cc",
   "metadata": {},
   "outputs": [],
   "source": [
    "# Создадим 4 категории:\n",
    "def cat_vote(x):\n",
    "    if x <= 16: x = '1'\n",
    "    elif 16 < x <= 52: x = '2'\n",
    "    elif 52 < x <= 188: x = '3'\n",
    "    elif 188 < x: x = '4'\n",
    "    return x      \n",
    "\n",
    "# Заменим значения в столбце на категории\n",
    "train['vote'] = train['vote'].apply(lambda x: cat_vote(x))"
   ]
  },
  {
   "cell_type": "code",
   "execution_count": null,
   "id": "3b31924a",
   "metadata": {},
   "outputs": [],
   "source": [
    "train.vote.unique()"
   ]
  },
  {
   "cell_type": "markdown",
   "id": "1488f0b0",
   "metadata": {},
   "source": [
    "Посмотрим на столбец style"
   ]
  },
  {
   "cell_type": "code",
   "execution_count": null,
   "id": "2cbcd25e",
   "metadata": {},
   "outputs": [],
   "source": [
    "print(train.style)"
   ]
  },
  {
   "cell_type": "code",
   "execution_count": null,
   "id": "fb1c256a",
   "metadata": {},
   "outputs": [],
   "source": [
    "print('Количество пропусков: {},'.format(train.style.isnull().sum()))\n",
    "print('{},'.format(train.style.describe()))"
   ]
  },
  {
   "cell_type": "code",
   "execution_count": null,
   "id": "82ca3269",
   "metadata": {},
   "outputs": [],
   "source": [
    "train = train.drop(['style'], axis=1)"
   ]
  },
  {
   "cell_type": "markdown",
   "id": "a6166fcc",
   "metadata": {},
   "source": [
    "Посмотрим на столбец image"
   ]
  },
  {
   "cell_type": "code",
   "execution_count": null,
   "id": "11f58a93",
   "metadata": {},
   "outputs": [],
   "source": [
    "print(train.image)"
   ]
  },
  {
   "cell_type": "code",
   "execution_count": null,
   "id": "8b8d1d1a",
   "metadata": {},
   "outputs": [],
   "source": [
    "print('Количество пропусков: {},'.format(train.image.isnull().sum()))\n",
    "print('{},'.format(train.image.describe()))"
   ]
  },
  {
   "cell_type": "markdown",
   "id": "abf599c3",
   "metadata": {},
   "source": [
    "Столбец содержит картинки. Удаляем"
   ]
  },
  {
   "cell_type": "code",
   "execution_count": null,
   "id": "2eaa6721",
   "metadata": {},
   "outputs": [],
   "source": [
    "train = train.drop(['image'], axis=1)"
   ]
  },
  {
   "cell_type": "markdown",
   "id": "c661e339",
   "metadata": {},
   "source": [
    "Посмотрим на столбец userid"
   ]
  },
  {
   "cell_type": "code",
   "execution_count": null,
   "id": "8fa9a965",
   "metadata": {},
   "outputs": [],
   "source": [
    "print(train.userid)"
   ]
  },
  {
   "cell_type": "code",
   "execution_count": null,
   "id": "bade1659",
   "metadata": {},
   "outputs": [],
   "source": [
    "print('Количество пропусков: {},'.format(train.userid.isnull().sum()))\n",
    "print('{},'.format(train.userid.describe()))"
   ]
  },
  {
   "cell_type": "markdown",
   "id": "9835a97d",
   "metadata": {},
   "source": [
    "Пропусков нет, тип числовой, оставляем"
   ]
  },
  {
   "cell_type": "markdown",
   "id": "9b5bac2d",
   "metadata": {},
   "source": [
    "Посмотрим на столбец itemid"
   ]
  },
  {
   "cell_type": "code",
   "execution_count": null,
   "id": "630dbca7",
   "metadata": {},
   "outputs": [],
   "source": [
    "print(train.itemid)"
   ]
  },
  {
   "cell_type": "code",
   "execution_count": null,
   "id": "559b9d5b",
   "metadata": {},
   "outputs": [],
   "source": [
    "print('Количество пропусков: {},'.format(train.itemid.isnull().sum()))\n",
    "print('{},'.format(train.itemid.describe()))"
   ]
  },
  {
   "cell_type": "markdown",
   "id": "7dae153c",
   "metadata": {},
   "source": [
    "Пропусков нет, тип числовой, оставляем"
   ]
  },
  {
   "cell_type": "markdown",
   "id": "ff1646ec",
   "metadata": {},
   "source": [
    "Посмотрим что получилось в итоге"
   ]
  },
  {
   "cell_type": "code",
   "execution_count": null,
   "id": "4a8bcd1f",
   "metadata": {},
   "outputs": [],
   "source": [
    "train.info()"
   ]
  },
  {
   "cell_type": "markdown",
   "id": "9608c494",
   "metadata": {},
   "source": [
    "Наивная модель"
   ]
  },
  {
   "cell_type": "code",
   "execution_count": null,
   "id": "a7f9aa79",
   "metadata": {},
   "outputs": [],
   "source": [
    "train_data, test_data = train_test_split(train,random_state=32, shuffle=True)\n"
   ]
  },
  {
   "cell_type": "code",
   "execution_count": null,
   "id": "ee4e511c",
   "metadata": {},
   "outputs": [],
   "source": [
    "ratings_coo = sparse.coo_matrix((train_data['rating'].astype(int),\n",
    "                                 (train_data['userid'],\n",
    "                                  train_data['itemid'])))"
   ]
  },
  {
   "cell_type": "code",
   "execution_count": null,
   "id": "57d66460",
   "metadata": {},
   "outputs": [],
   "source": [
    "NUM_THREADS = 4 #число потоков\n",
    "NUM_COMPONENTS = 30 #число параметров вектора \n",
    "NUM_EPOCHS = 20 #число эпох обучения\n",
    "\n",
    "model = LightFM(learning_rate=0.1, loss='logistic',\n",
    "                no_components=NUM_COMPONENTS)\n",
    "model = model.fit(ratings_coo, epochs=NUM_EPOCHS, \n",
    "                  num_threads=NUM_THREADS)"
   ]
  },
  {
   "cell_type": "code",
   "execution_count": null,
   "id": "31b78c63",
   "metadata": {},
   "outputs": [],
   "source": [
    "preds = model.predict(test_data.userid.values,\n",
    "                      test_data.itemid.values)\n"
   ]
  },
  {
   "cell_type": "code",
   "execution_count": null,
   "id": "5ae9657e",
   "metadata": {},
   "outputs": [],
   "source": [
    "sklearn.metrics.roc_auc_score(test_data.rating,preds)"
   ]
  },
  {
   "cell_type": "markdown",
   "id": "0f2a9750",
   "metadata": {},
   "source": [
    "Теперь построим модель, в которую добавим наши 4 признака"
   ]
  },
  {
   "cell_type": "code",
   "execution_count": null,
   "id": "e94e07d9",
   "metadata": {},
   "outputs": [],
   "source": [
    "# create train dataset\n",
    "\n",
    "df = pd.DataFrame(train,  columns = ['userid', 'itemid', 'rating'])\n",
    "df"
   ]
  },
  {
   "cell_type": "code",
   "execution_count": null,
   "id": "2142d9ad",
   "metadata": {},
   "outputs": [],
   "source": [
    "#create item features\n",
    "\n",
    "features = pd.DataFrame(train,  columns = ['userid', 'verified', 'asin', 'unixReviewTime', 'vote'])\n",
    "features"
   ]
  },
  {
   "cell_type": "code",
   "execution_count": null,
   "id": "8545da69",
   "metadata": {},
   "outputs": [],
   "source": [
    "uf = []\n",
    "col = ['verified']*len(features.verified.unique()) + ['asin']*len(features.asin.unique()) + ['unixReviewTime']*len(features.unixReviewTime.unique()) + ['vote']*len(features['vote'].unique())\n",
    "unique_verified = list(features.verified.unique()) + list(features.asin.unique()) + list(features.unixReviewTime.unique()) + list(features['vote'].unique())\n",
    "#print('verified:', unique_verified)\n",
    "for x,y in zip(col, unique_verified):\n",
    "    res = str(x)+ \":\" +str(y)\n",
    "    uf.append(res)\n",
    "    print(res)"
   ]
  },
  {
   "cell_type": "code",
   "execution_count": null,
   "id": "ac9f4cc7",
   "metadata": {},
   "outputs": [],
   "source": [
    "from lightfm.data import Dataset\n",
    "# we call fit to supply userid, item id and user/item features\n",
    "dataset1 = Dataset()\n",
    "dataset1.fit(\n",
    "        df['userid'].unique(), # all the users\n",
    "        df['itemid'].unique(), # all the items\n",
    "        user_features = uf\n",
    ")"
   ]
  },
  {
   "cell_type": "code",
   "execution_count": null,
   "id": "1cf1f413",
   "metadata": {},
   "outputs": [],
   "source": [
    "# plugging in the interactions and their weights\n",
    "(interactions, weights) = dataset1.build_interactions([(x[0], x[1], x[2]) for x in df.values ])"
   ]
  },
  {
   "cell_type": "code",
   "execution_count": null,
   "id": "302e76c4",
   "metadata": {},
   "outputs": [],
   "source": [
    "def feature_colon_value(my_list):\n",
    "    \"\"\"\n",
    "    Takes as input a list and prepends the columns names to respective values in the list.\n",
    "    For example: if my_list = [1,1,3,2],\n",
    "    resultant output = ['verified:1', 'asin:1', 'unixReviewTim:3', 'vote:2']\n",
    "   \n",
    "    \"\"\"\n",
    "    result = []\n",
    "    ll = ['verified:','asin:', 'unixReviewTime:', 'vote:']\n",
    "    aa = my_list\n",
    "    for x,y in zip(ll,aa):\n",
    "        res = str(x) +\"\"+ str(y)\n",
    "        result.append(res)\n",
    "    return result"
   ]
  },
  {
   "cell_type": "code",
   "execution_count": null,
   "id": "3c087db2",
   "metadata": {},
   "outputs": [],
   "source": [
    "ad_subset = features[[\"verified\", 'asin','unixReviewTime', 'vote']] \n",
    "ad_list = [list(x) for x in ad_subset.values]\n",
    "feature_list = []\n",
    "for item in ad_list:\n",
    "    feature_list.append(feature_colon_value(item))\n",
    "    #print(feature_colon_value(item))\n",
    "#print(f'Final output: {feature_list}')"
   ]
  },
  {
   "cell_type": "code",
   "execution_count": null,
   "id": "ad9d4e0d",
   "metadata": {},
   "outputs": [],
   "source": [
    "user_tuple = list(zip(features.userid, feature_list))\n",
    "#user_tuple"
   ]
  },
  {
   "cell_type": "code",
   "execution_count": null,
   "id": "cbafbd37",
   "metadata": {},
   "outputs": [],
   "source": [
    "user_features = dataset1.build_user_features(user_tuple, normalize= False)\n",
    "user_features.todense()"
   ]
  },
  {
   "cell_type": "code",
   "execution_count": null,
   "id": "a209ed8a",
   "metadata": {},
   "outputs": [],
   "source": [
    "user_features.todense()"
   ]
  },
  {
   "cell_type": "code",
   "execution_count": null,
   "id": "2fef0583",
   "metadata": {},
   "outputs": [],
   "source": [
    "user_id_map, user_feature_map, item_id_map, item_feature_map = dataset1.mapping()\n",
    "#dataset1.mapping()"
   ]
  },
  {
   "cell_type": "code",
   "execution_count": null,
   "id": "fbe4f9d0",
   "metadata": {},
   "outputs": [],
   "source": [
    "model_fin = LightFM(loss='warp')\n",
    "model_fin.fit(interactions, # spase matrix representing whether user u and item i interacted\n",
    "      user_features= user_features, # we have built the sparse matrix above\n",
    "      sample_weight= weights, # spase matrix representing how much value to give to user u and item i inetraction: i.e ratings\n",
    "      epochs=10)"
   ]
  },
  {
   "cell_type": "code",
   "execution_count": null,
   "id": "62f12fa2",
   "metadata": {},
   "outputs": [],
   "source": [
    "from lightfm.evaluation import auc_score\n",
    "train_auc = auc_score(model_fin,\n",
    "                      interactions,\n",
    "                      user_features=user_features\n",
    "                     ).mean()\n",
    "print('Hybrid training set AUC: %s' % train_auc)"
   ]
  },
  {
   "cell_type": "code",
   "execution_count": null,
   "id": "f88f88db",
   "metadata": {},
   "outputs": [],
   "source": [
    "# прогноз для существующего пользователя\n",
    "user_x = user_id_map[88]\n",
    "n_users, n_items = interactions.shape # no of users * no of items\n",
    "model_fin.predict(user_x, np.arange(n_items)) # means predict for all"
   ]
  },
  {
   "cell_type": "code",
   "execution_count": null,
   "id": "5eb6273d",
   "metadata": {},
   "outputs": [],
   "source": [
    "# прогноз для нового пользователя\n",
    "user_feature_list = ['verified:1', 'asin:2', 'unixReviewTime:4', 'vote:1']"
   ]
  },
  {
   "cell_type": "code",
   "execution_count": null,
   "id": "1fa1af4d",
   "metadata": {},
   "outputs": [],
   "source": [
    "def format_newuser_input(user_feature_map, user_feature_list):\n",
    "  #user_feature_map = user_feature_map  \n",
    "  num_features = len(user_feature_list)\n",
    "  normalised_val = 1.0 \n",
    "  target_indices = []\n",
    "  for feature in user_feature_list:\n",
    "    try:\n",
    "        target_indices.append(user_feature_map[feature])\n",
    "    except KeyError:\n",
    "        print(\"new user feature encountered '{}'\".format(feature))\n",
    "        pass\n",
    "  #print(\"target indices: {}\".format(target_indices))\n",
    "  new_user_features = np.zeros(len(user_feature_map.keys()))\n",
    "  for i in target_indices:\n",
    "    new_user_features[i] = normalised_val\n",
    "  new_user_features = sparse.csr_matrix(new_user_features)\n",
    "  return(new_user_features)"
   ]
  },
  {
   "cell_type": "code",
   "execution_count": null,
   "id": "5fac9f79",
   "metadata": {},
   "outputs": [],
   "source": [
    "new_user_features = format_newuser_input(user_feature_map, user_feature_list)"
   ]
  },
  {
   "cell_type": "code",
   "execution_count": null,
   "id": "6cdc3258",
   "metadata": {},
   "outputs": [],
   "source": [
    "model_fin.predict(0, np.arange(n_items), user_features=new_user_features) # Here 0 means pick the first row of the user_features sparse matrix"
   ]
  },
  {
   "cell_type": "code",
   "execution_count": null,
   "id": "70dc3ce9",
   "metadata": {},
   "outputs": [],
   "source": []
  },
  {
   "cell_type": "code",
   "execution_count": null,
   "id": "bb90db02",
   "metadata": {},
   "outputs": [],
   "source": [
    "# Создадим разреженную матрицу\n",
    "ratings_coo2 = sparse.coo_matrix((train['rating'].astype(int),\n",
    "                                 (train['userid'],\n",
    "                                  train['itemid'],)))\n",
    "\n",
    "# Обучим модель\n",
    "model2 = LightFM(learning_rate=0.1, loss='logistic',\n",
    "                no_components=NUM_COMPONENTS)\n",
    "model2 = model2.fit(ratings_coo2, epochs=NUM_EPOCHS, \n",
    "                  num_threads=NUM_THREADS)"
   ]
  },
  {
   "cell_type": "code",
   "execution_count": null,
   "id": "9bdf8c08",
   "metadata": {},
   "outputs": [],
   "source": [
    "preds = model2.predict(test.userid.values,\n",
    "                      test.itemid.values)"
   ]
  },
  {
   "cell_type": "code",
   "execution_count": null,
   "id": "1b5d2ef1",
   "metadata": {},
   "outputs": [],
   "source": [
    "preds.min(), preds.max()"
   ]
  },
  {
   "cell_type": "code",
   "execution_count": null,
   "id": "d0262118",
   "metadata": {},
   "outputs": [],
   "source": [
    "normalized_preds = (preds - preds.min())/(preds - preds.min()).max()"
   ]
  },
  {
   "cell_type": "code",
   "execution_count": null,
   "id": "e899ea6b",
   "metadata": {},
   "outputs": [],
   "source": [
    "normalized_preds.min(), normalized_preds.max()"
   ]
  },
  {
   "cell_type": "code",
   "execution_count": null,
   "id": "e8d0b4ec",
   "metadata": {},
   "outputs": [],
   "source": [
    "submission['rating']= normalized_preds"
   ]
  },
  {
   "cell_type": "code",
   "execution_count": null,
   "id": "11ab0e29",
   "metadata": {},
   "outputs": [],
   "source": [
    "submission.to_csv('submission_log.csv', index=False)"
   ]
  }
 ],
 "metadata": {
  "kernelspec": {
   "display_name": "Python 3",
   "language": "python",
   "name": "python3"
  },
  "language_info": {
   "codemirror_mode": {
    "name": "ipython",
    "version": 3
   },
   "file_extension": ".py",
   "mimetype": "text/x-python",
   "name": "python",
   "nbconvert_exporter": "python",
   "pygments_lexer": "ipython3",
   "version": "3.8.8"
  }
 },
 "nbformat": 4,
 "nbformat_minor": 5
}
